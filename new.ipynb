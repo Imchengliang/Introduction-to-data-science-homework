{
 "cells": [
  {
   "cell_type": "markdown",
   "metadata": {},
   "source": [
    "# 1"
   ]
  },
  {
   "cell_type": "code",
   "execution_count": 1,
   "metadata": {
    "vscode": {
     "languageId": "plaintext"
    }
   },
   "outputs": [],
   "source": [
    "# Hint the PMF of N is p_N(k) where p_N is\n",
    "# PMF for binomial is (n!/(k!*(n-k)!)))*((1-p)^(n-k))*((p)^k)\n",
    "p = 11/20\n",
    "p_N = lambda k: binomial(20,k)*(1-p)^(20-k)*(p)^k"
   ]
  },
  {
   "cell_type": "code",
   "execution_count": 2,
   "metadata": {
    "vscode": {
     "languageId": "plaintext"
    }
   },
   "outputs": [
    {
     "name": "stdout",
     "output_type": "stream",
     "text": [
      "[0.24928935982841194, 0.24928935982832895, 0.24928935982261063, 0.24928935963549287, 0.24928935576839342, 0.2492892991583498, 0.2492886751893026, 0.24928330207958463, 0.24924628523366033, 0.24903902630299066, 0.24808569900431446, 0.24460820014975942, 0.2349439695781525, 0.21475641513175922, 0.18267139196621004, 0.14272522447072053, 0.10227042692681919, 0.06762809950564581, 0.04166472439122746, 0.024151134340423385, 0.013287462679601616]\n"
     ]
    }
   ],
   "source": [
    "# Part 1: \n",
    "# replace XXX to represent P(N < 10) for T = [0,1,2,...,20], i.e. your answer should be a list\n",
    "# of length 21.\n",
    "def thresh(): #generating all of the binomial pdf values for N\n",
    "    lst = []\n",
    "    for T in range(21):\n",
    "        lst.append(float(p_N(T)))\n",
    "    return lst\n",
    "binp = thresh()\n",
    "\n",
    "def fort(t): #uses Bayes rule to calculate each T\n",
    "    num, den = 0, 0\n",
    "    #this calculates the numerator, or the probability that Y>=T|N<10 multiplied by p(n<10)\n",
    "    for val in range(10): \n",
    "        binp2 = binp[:10]\n",
    "        total = 0\n",
    "        for elt in binp2:\n",
    "            total += elt\n",
    "        mod = 1/total\n",
    "        binp3 = []\n",
    "        for elt in binp2:\n",
    "            binp3.append(elt * mod)\n",
    "        #print(binp3)\n",
    "        if val >= t:\n",
    "            num += binp3[val]\n",
    "        else:\n",
    "            su = 0\n",
    "            k = t-val\n",
    "            while k <= 20-val:\n",
    "                su += float(binomial(20-val,k)*(1-.5)^(20-val-k)*(.5)^k)\n",
    "                k += 1\n",
    "            num += binp3[val]*su\n",
    "        totall = 0\n",
    "    for elt in binp2:\n",
    "        totall+=elt\n",
    "    num = num*totall\n",
    "\n",
    "    #this calculates the denominator, or the probability that Y>=T\n",
    "    for val in range(21): \n",
    "        if val >= t:\n",
    "            den += binp[val]\n",
    "        else:\n",
    "            su = 0\n",
    "            k = t-val\n",
    "            while k <= 20-val:\n",
    "                su += float(binomial(20-val,k)*(1-.5)^(20-val-k)*(.5)^k)\n",
    "                k += 1\n",
    "            den += binp[val]*su\n",
    "    return num/den\n",
    "    \n",
    "finall = []\n",
    "for elt in range(21):\n",
    "    finall.append(fort(elt))\n",
    "print(finall)\n",
    "problem11_probabilities = finall"
   ]
  },
  {
   "cell_type": "code",
   "execution_count": null,
   "metadata": {
    "vscode": {
     "languageId": "plaintext"
    }
   },
   "outputs": [],
   "source": [
    "problem12_T = 17"
   ]
  },
  {
   "cell_type": "markdown",
   "metadata": {},
   "source": [
    "# 2"
   ]
  },
  {
   "cell_type": "code",
   "execution_count": 3,
   "metadata": {
    "vscode": {
     "languageId": "plaintext"
    }
   },
   "outputs": [
    {
     "name": "stdout",
     "output_type": "stream",
     "text": [
      "[13, 1049, 13212, 7919, 4166, 50376, 42665, 54173, 65292, 47236, 3776, 21126, 11636, 20793, 52198, 48241, 13614]\n"
     ]
    }
   ],
   "source": [
    "def problem2_LCG(size=None, seed = 0):\n",
    "    \"\"\"\n",
    "    A linear congruential generator that generates pseudo random numbers according to size.\n",
    "    \n",
    "    Parameters\n",
    "    -------------\n",
    "    size : an integer denoting how many samples should be produced\n",
    "    seed : the starting point of the LCG, i.e. u0 in the notes.\n",
    "    \n",
    "    Returns\n",
    "    -------------\n",
    "    out : a list of the pseudo random numbers\n",
    "    \"\"\"\n",
    "    #seed 13 works well apparently, shouldn't matter though\n",
    "    #I messed around with some values, until finding M=\n",
    "    #this is the generator taken from notebook 7\n",
    "    #m, a, c, = 256, 137, 123 \n",
    "    m, a, c, = (2^16)+1, 75, 74\n",
    "    n = size\n",
    "    x = seed # the seed\n",
    "    retValue = [Mod(x,m)]  # start the list with x=x0\n",
    "    for i in range(2, n+1, 1):\n",
    "        x = Mod(a * x + c, m) # the generator, using modular arithmetic\n",
    "        retValue.append(x) # append the new x to the list\n",
    "    return retValue\n",
    "print(problem2_LCG(17,13))"
   ]
  },
  {
   "cell_type": "code",
   "execution_count": 4,
   "metadata": {
    "vscode": {
     "languageId": "plaintext"
    }
   },
   "outputs": [
    {
     "name": "stdout",
     "output_type": "stream",
     "text": [
      "[0.13, 0.1049, 0.13212, 0.7919, 0.4166, 0.50376, 0.42665]\n"
     ]
    }
   ],
   "source": [
    "def problem2_uniform(generator=None, period = 1, size=None, seed=0):\n",
    "    \"\"\"\n",
    "    Takes a generator and produces samples from the uniform [0,1] distribution according\n",
    "    to size.\n",
    "    \n",
    "    Parameters\n",
    "    -------------\n",
    "    generator : a function of type generator(size,seed) and produces the same result as problem2_LCG, i.e. pseudo random numbers in the range {0,1,...,period-1}\n",
    "    period : the period of the generator\n",
    "    seed : the seed to be used in the generator provided\n",
    "    size : an integer denoting how many samples should be produced\n",
    "    \n",
    "    Returns\n",
    "    --------------\n",
    "    out : a list of the uniform pseudo random numbers\n",
    "    \"\"\"\n",
    "    l = []\n",
    "    for i in generator(size,seed):\n",
    "        n = 0\n",
    "        if int(i) == 0:\n",
    "            l.append(i)\n",
    "        else:\n",
    "            n = len(str(i))\n",
    "            l.append(float(int(i)/10^n))\n",
    "    return l\n",
    "\n",
    "    '''\n",
    "    outs = []\n",
    "    iters = ceil(size / period) \n",
    "    #allows for custom periods, will rescale the output to handle this\n",
    "    i = 0\n",
    "    for elt in generator(size, seed):\n",
    "        new = float(elt)\n",
    "        #new = new / 256\n",
    "        new = new / ((2^16)+1)\n",
    "        outs.append(new)\n",
    "        i += 1\n",
    "        if i >= period:\n",
    "            break\n",
    "    if iters > 1:\n",
    "        outs = outs * iters\n",
    "    outs = outs[:size]\n",
    "    return outs\n",
    "    '''\n",
    "    \n",
    "print(problem2_uniform(problem2_LCG, 4, 7, 13))"
   ]
  },
  {
   "cell_type": "code",
   "execution_count": 5,
   "metadata": {
    "vscode": {
     "languageId": "plaintext"
    }
   },
   "outputs": [],
   "source": [
    "def problem2_accept_reject(uniformGenerator=None, n_iterations=None, seed=0):\n",
    "    \"\"\"\n",
    "    Takes a generator that produces uniform pseudo random [0,1] numbers \n",
    "    and produces samples from (pi/2)*abs(sin(x*2*pi)) using an Accept-Reject\n",
    "    sampler with the uniform distribution as the proposal distribution\n",
    "    \n",
    "    Parameters\n",
    "    -------------\n",
    "    generator : a function of the type generator(size,seed) that produces uniform pseudo random\n",
    "    numbers from [0,1]\n",
    "    seed : the seed to be used in the generator provided\n",
    "    size : an integer denoting how many samples should be produced\n",
    "    \n",
    "    Returns\n",
    "    --------------\n",
    "    out : a list of the pseudo random numbers with the specified distribution\n",
    "    \"\"\"\n",
    "    l =[]\n",
    "    for i in uniformGenerator(n_iterations, seed):\n",
    "        p = float((pi/2)*abs(sin(2*pi*i)))\n",
    "        l.append(p)\n",
    "    return l\n",
    "\n",
    "    '''\n",
    "    c=pi/2\n",
    "    samples = []\n",
    "    for elt in uniformGenerator(problem2_LCG, 256, n_iterations, seed):\n",
    "        new = float(elt)\n",
    "        if new<=((pi/2)*abs(sin(2*pi*new)))/(c*1):\n",
    "            samples.append(new)   \n",
    "    return samples\n",
    "print(problem2_accept_reject(problem2_uniform, 20, 13))\n",
    "    '''"
   ]
  },
  {
   "cell_type": "code",
   "execution_count": 6,
   "metadata": {
    "vscode": {
     "languageId": "plaintext"
    }
   },
   "outputs": [
    {
     "name": "stdout",
     "output_type": "stream",
     "text": [
      "LCG output: [1, 149, 11249, 57305, 38044, 35283, 24819, 26463, 18689, 25472]\n",
      "Uniform sampler [0.1, 0.149, 0.11249, 0.57305, 0.38044, 0.35283, 0.24819, 0.26463, 0.18689, 0.25472]\n",
      "Accept-Reject sampler [0.9232909152452283, 1.2649746688139947, 1.0200755576868727, 0.6959254432622658, 1.072114336267915, 1.2541834750134246, 1.5706947482266786, 1.564164511241313, 1.4489119927290925, 1.5701056071876394, 0.0976460851308693, 1.5379992852974302, 0.7425129450315603, 1.0989345805788033, 1.5701960835104305, 1.272075974318542, 1.4759156326726548, 1.2590984755152332, 1.037452990931763, 1.5650142427780667]\n"
     ]
    }
   ],
   "source": [
    "# If you managed to solve all three parts you can test the following code to see if it runs\n",
    "# you have to change the period to match your LCG though, this is marked as XXX.\n",
    "# It is a very good idea to check these things using the histogram function in sagemath\n",
    "# try with a larger number of samples, up to 10000 should run\n",
    "\n",
    "print(\"LCG output: %s\" % problem2_LCG(size=10, seed = 1))\n",
    "\n",
    "period = 256\n",
    "\n",
    "print(\"Uniform sampler %s\" % problem2_uniform(generator=problem2_LCG, period = period, size=10, seed=1))\n",
    "\n",
    "uniform_sampler = lambda size,seed: problem2_uniform(generator=problem2_LCG, period = period, size=size, seed=seed)\n",
    "\n",
    "#print(\"Accept-Reject sampler %s\" % problem2_accept_reject(uniformGenerator = problem2_uniform, n_iterations=20, seed=1))\n",
    "print(\"Accept-Reject sampler %s\" % problem2_accept_reject(uniformGenerator = uniform_sampler, n_iterations=20, seed=1))"
   ]
  },
  {
   "cell_type": "code",
   "execution_count": 7,
   "metadata": {
    "vscode": {
     "languageId": "plaintext"
    }
   },
   "outputs": [
    {
     "name": "stdout",
     "output_type": "stream",
     "text": [
      "Accept-Reject sampler [1.3793315657811056, 0.8903510963538943, 0.6745105026614143, 0.3468803058481825, 0.6590723365017155, 1.555093186998338, 1.0461247426708629, 1.2541705726183165, 0.825727657867365, 1.5130790717600755, 0.33653508933612036, 1.4069890740252056, 1.4621787270322988, 1.3031654784288293, 0.5578190358997993, 0.7502612894847258, 1.5544755801421692, 1.2121628760116407, 1.5060266572428316, 0.34871096250239736]\n"
     ]
    }
   ],
   "source": [
    "# If however you did not manage to implement either part 1 or part 2 but still want to check part 3, you can run the code below\n",
    "\n",
    "def testUniformGenerator(size, seed):\n",
    "    set_random_seed(seed)\n",
    "    \n",
    "    return [random() for s in range(size)]\n",
    "\n",
    "print(\"Accept-Reject sampler %s\" % problem2_accept_reject(uniformGenerator=testUniformGenerator, n_iterations=20, seed=1))"
   ]
  },
  {
   "cell_type": "markdown",
   "metadata": {},
   "source": [
    "# 3"
   ]
  },
  {
   "cell_type": "code",
   "execution_count": 8,
   "metadata": {
    "vscode": {
     "languageId": "plaintext"
    }
   },
   "outputs": [],
   "source": [
    "problem3_answer_1 = [1,9] # TEACHER addition\n",
    "#problem3_answer_1 = [2,5,10]\n",
    "\n",
    "problem3_answer_2 = [1,3,4,5,9]\n",
    "#problem3_answer_2 = [3,5,7]"
   ]
  },
  {
   "cell_type": "markdown",
   "metadata": {},
   "source": [
    "# 4"
   ]
  },
  {
   "cell_type": "code",
   "execution_count": 9,
   "metadata": {
    "vscode": {
     "languageId": "plaintext"
    }
   },
   "outputs": [
    {
     "name": "stdout",
     "output_type": "stream",
     "text": [
      "345\n",
      "279\n",
      "0.808695652173913\n"
     ]
    }
   ],
   "source": [
    "# Run this cell to get the SMS text data\n",
    "#from exam_extras import load_sms\n",
    "#spam_no_spam = load_sms()\n",
    "import csv\n",
    "import numpy as np\n",
    "file_path = \"/Users/imchengliang/Downloads/Introduction to Data Science/spam.csv\"\n",
    "lst = []\n",
    "with open(file_path) as file:\n",
    "    reader = csv.reader(file)\n",
    "    next(reader)\n",
    "    for row in reader:\n",
    "        lst.append(row)\n",
    "\n",
    "X, Y = [], []\n",
    "for i in lst:\n",
    "    X.append(i[1].lower())\n",
    "    if i[0] == \"spam\":\n",
    "        Y.append(1)\n",
    "    elif i[0] == \"ham\":\n",
    "        Y.append(0)\n",
    "\n",
    "#print(Y)\n",
    "\n",
    "pos = []\n",
    "sum, ind = 0, 0\n",
    "for i in X:\n",
    "    if (\"free\" in i) or (\"prize\" in i):\n",
    "        sum += 1\n",
    "        pos.append(ind)\n",
    "    ind += 1\n",
    "#print(pos)\n",
    "print(sum)\n",
    "sum2 = 0\n",
    "for elt in pos: #for every text with free or prize checks if it is marked 0 or 1\n",
    "    sum2 += Y[elt]\n",
    "print(sum2)\n",
    "# fill in the estimate for part 1 here (should be a number between 0 and 1)\n",
    "problem4_hatP = float(sum2/sum)\n",
    "print(problem4_hatP)"
   ]
  },
  {
   "cell_type": "code",
   "execution_count": 10,
   "metadata": {
    "vscode": {
     "languageId": "plaintext"
    }
   },
   "outputs": [
    {
     "data": {
      "text/plain": [
       "'\\nX,Y = [],[]\\nfor elt in spam_no_spam:\\n    X.append(elt[0].lower()) #gives us our list of texts with the text converted to lowercase\\n    Y.append(elt[1])\\nsum = 0\\npos = []\\nind = 0\\nfor elt in X:\\n    words = elt.split() #splits each text into a list of words\\n    for elt in words:\\n        if elt == \"free\" or elt == \"prize\": #checks if the words are in the text\\n            sum += 1\\n            pos.append(ind)\\n        break #if they are adds one to sum and breaks\\n    ind += 1\\n#print(sum)\\nsum2 = 0\\nfor elt in pos: #for every text with free or prize checks if it is marked 0 or 1\\n    sum2 += Y[elt]\\n#print(sum2)\\n# fill in the estimate for part 1 here (should be a number between 0 and 1)\\nproblem4_hatP = float(sum2/sum)\\n# 93/115 is close to answer 0.81\\n#print(problem4_hatP)\\n'"
      ]
     },
     "execution_count": 10,
     "metadata": {},
     "output_type": "execute_result"
    }
   ],
   "source": [
    "#print(spam_no_spam[1][1])\n",
    "#I also tried using re to convert the noncompatible text but could not get it to work\n",
    "'''\n",
    "X,Y = [],[]\n",
    "for elt in spam_no_spam:\n",
    "    X.append(elt[0].lower()) #gives us our list of texts with the text converted to lowercase\n",
    "    Y.append(elt[1])\n",
    "sum = 0\n",
    "pos = []\n",
    "ind = 0\n",
    "for elt in X:\n",
    "    words = elt.split() #splits each text into a list of words\n",
    "    for elt in words:\n",
    "        if elt == \"free\" or elt == \"prize\": #checks if the words are in the text\n",
    "            sum += 1\n",
    "            pos.append(ind)\n",
    "        break #if they are adds one to sum and breaks\n",
    "    ind += 1\n",
    "#print(sum)\n",
    "sum2 = 0\n",
    "for elt in pos: #for every text with free or prize checks if it is marked 0 or 1\n",
    "    sum2 += Y[elt]\n",
    "#print(sum2)\n",
    "# fill in the estimate for part 1 here (should be a number between 0 and 1)\n",
    "problem4_hatP = float(sum2/sum)\n",
    "# 93/115 is close to answer 0.81\n",
    "#print(problem4_hatP)\n",
    "'''"
   ]
  },
  {
   "cell_type": "code",
   "execution_count": 11,
   "metadata": {
    "vscode": {
     "languageId": "plaintext"
    }
   },
   "outputs": [
    {
     "name": "stdout",
     "output_type": "stream",
     "text": [
      "0.0658911297229392\n"
     ]
    }
   ],
   "source": [
    "#since this is binary, we can eventually reduce that l will be sqrt((-1/2n)ln(.05)). Plugging in n=35 gives \n",
    "problem4_l = .369\n",
    "print(sqrt((-1/(2*345))*ln(.05)))"
   ]
  },
  {
   "cell_type": "code",
   "execution_count": 12,
   "metadata": {
    "vscode": {
     "languageId": "plaintext"
    }
   },
   "outputs": [
    {
     "name": "stdout",
     "output_type": "stream",
     "text": [
      "38\n",
      "37\n",
      "0.9736842105263158\n"
     ]
    }
   ],
   "source": [
    "'''\n",
    "X,Y = [],[]\n",
    "for elt in spam_no_spam:\n",
    "    X.append(elt[0].lower()) #gives us our list of texts with the text converted to lowercase\n",
    "    Y.append(elt[1])\n",
    "'''\n",
    "sum = 0\n",
    "pos = []\n",
    "ind = 0\n",
    "for elt in X:\n",
    "    '''\n",
    "    words = elt.split() #splits each text into a list of words\n",
    "    for elt in words:\n",
    "        if elt == \"free\": #checks if the words are in the text\n",
    "            words2 = words[:]\n",
    "            words2.remove(\"free\")\n",
    "            for elt in words2:\n",
    "                if elt == \"free\":\n",
    "                    sum += 1\n",
    "                    pos.append(ind)\n",
    "        break #if they are adds one to sum and breaks\n",
    "    '''\n",
    "    if elt.count(\"free\") == 2:\n",
    "        sum += 1\n",
    "        pos.append(ind)\n",
    "    ind += 1\n",
    "print(sum)\n",
    "sum2 = 0\n",
    "for elt in pos: #for every text with free or prize checks if it is marked 0 or 1\n",
    "    sum2 += Y[elt]\n",
    "print(sum2)\n",
    "# fill in the estimate for part 1 here (should be a number between 0 and 1)\n",
    "# fill in the estimate for hatP for the double free question in part 3 here (should be a number between 0 and 1)\n",
    "problem4_hatP2 = float(sum2/sum)\n",
    "print(problem4_hatP2)\n",
    "# 37/38 is close to answer"
   ]
  },
  {
   "cell_type": "code",
   "execution_count": 13,
   "metadata": {
    "vscode": {
     "languageId": "plaintext"
    }
   },
   "outputs": [
    {
     "name": "stdout",
     "output_type": "stream",
     "text": [
      "0.198538484720681\n"
     ]
    }
   ],
   "source": [
    "#since this is binary, we can eventually reduce that l will be sqrt((-1/2n)ln(.05)). Plugging in n=38 gives \n",
    "# fill in the estimate for l for the double free question in part 3 here\n",
    "problem4_l2 = .199\n",
    "print(sqrt((-1/(2*38))*ln(.05)))"
   ]
  },
  {
   "cell_type": "markdown",
   "metadata": {},
   "source": [
    "# 5"
   ]
  },
  {
   "cell_type": "code",
   "execution_count": 14,
   "metadata": {
    "vscode": {
     "languageId": "plaintext"
    }
   },
   "outputs": [
    {
     "name": "stdout",
     "output_type": "stream",
     "text": [
      "9\n",
      "1335\n",
      "271888\n"
     ]
    }
   ],
   "source": [
    "import csv,sys\n",
    "rows = 0\n",
    "cities = []\n",
    "codes = []\n",
    "with open(\"/Users/imchengliang/Downloads/Introduction to Data Science/flights(1).csv\", 'r') as f:\n",
    "        reader = csv.reader(f, delimiter=',', quotechar='\"',)\n",
    "        headers = next(reader) ## skip first line of header\n",
    "        for row in reader:\n",
    "            rows += 1\n",
    "            code, city1, city2 = row[1], row[2],row[3]\n",
    "            if city1 not in cities:\n",
    "                cities.append(city1)\n",
    "            if city2 not in cities:\n",
    "                cities.append(city2)\n",
    "            if code not in codes:\n",
    "                codes.append(code)\n",
    "print(len(cities))\n",
    "print(len(codes))\n",
    "print(rows)\n",
    "number_of_cities = len(cities)\n",
    "number_of_userCodes = len(codes)\n",
    "number_of_observations = rows"
   ]
  },
  {
   "cell_type": "code",
   "execution_count": 15,
   "metadata": {
    "vscode": {
     "languageId": "plaintext"
    }
   },
   "outputs": [],
   "source": [
    "# This is a very useful function that you can use for part 2. You have seen this before when parsing the\n",
    "# pride and prejudice book.\n",
    "\n",
    "def makeFreqDict(myDataList):\n",
    "    '''Make a frequency mapping out of a list of data.\n",
    "\n",
    "    Param myDataList, a list of data.\n",
    "    Return a dictionary mapping each unique data value to its frequency count.'''\n",
    "\n",
    "    freqDict = {} # start with an empty dictionary\n",
    "\n",
    "    for res in myDataList:\n",
    "        if res in freqDict: # the data value already exists as a key\n",
    "                freqDict[res] = freqDict[res] + 1 # add 1 to the count using sage integers\n",
    "        else: # the data value does not exist as a key value\n",
    "            freqDict[res] = 1 # add a new key-value pair for this new data value, frequency 1\n",
    "\n",
    "    return freqDict # return the dictionary created"
   ]
  },
  {
   "cell_type": "code",
   "execution_count": 16,
   "metadata": {
    "vscode": {
     "languageId": "plaintext"
    }
   },
   "outputs": [
    {
     "name": "stdout",
     "output_type": "stream",
     "text": [
      "[[0.         0.0177757  0.01983537 0.03178882 0.01448023 0.01796328\n",
      "  0.01036456 0.01073236 0.01396899]\n",
      " [0.0177757  0.         0.01661346 0.02861105 0.01098614 0.01405726\n",
      "  0.0073339  0.00738907 0.01043812]\n",
      " [0.01983537 0.01661346 0.         0.03035441 0.0130311  0.01658771\n",
      "  0.00888233 0.00926852 0.01322971]\n",
      " [0.03178882 0.02861105 0.03035441 0.         0.0246756  0.02798579\n",
      "  0.02135806 0.02133231 0.02470503]\n",
      " [0.01448023 0.01098614 0.0130311  0.0246756  0.         0.01064409\n",
      "  0.00349409 0.00340581 0.00680427]\n",
      " [0.01796328 0.01405726 0.01658771 0.02798579 0.01064409 0.\n",
      "  0.00697714 0.00717943 0.01071029]\n",
      " [0.01036456 0.0073339  0.00888233 0.02135806 0.00349409 0.00697714\n",
      "  0.         0.         0.00343524]\n",
      " [0.01073236 0.00738907 0.00926852 0.02133231 0.00340581 0.00717943\n",
      "  0.         0.         0.00360075]\n",
      " [0.01396899 0.01043812 0.01322971 0.02470503 0.00680427 0.01071029\n",
      "  0.00343524 0.00360075 0.        ]]\n"
     ]
    }
   ],
   "source": [
    "import numpy as np\n",
    "\n",
    "# Count the different transitions\n",
    "cities, transitions = [], [] # A list containing tuples ex: ('Aracaju (SE)','Rio de Janeiro (RJ)') of all transitions in the text\n",
    "with open(\"/Users/imchengliang/Downloads/Introduction to Data Science/flights(1).csv\", 'r') as f:\n",
    "        reader = csv.reader(f, delimiter=',', quotechar='\"',)\n",
    "        headers = next(reader) ## skip first line of header\n",
    "        for row in reader:\n",
    "            cities.append(row[2])\n",
    "            transitions.append(tuple([row[2], row[3]]))\n",
    "\n",
    "unique_cities = sorted(set(cities)) # The unique cities\n",
    "n_cities = len(unique_cities) # The number of unique citites\n",
    "transition_counts = makeFreqDict(transitions) # A dictionary that counts the number of each transition\n",
    "#indexToCity = XXX # A dictionary that maps the n-1 number to the n:th unique_city,\n",
    "# ex: 0:'Aracaju (SE)'\n",
    "#cityToIndex = XXX # The inverse function of indexToWord, \n",
    "# ex: 'Aracaju (SE)':0\n",
    "indexToCity, cityToIndex = {}, {}\n",
    "for i in range(n_cities):\n",
    "    indexToCity[i] = unique_cities[i]\n",
    "    cityToIndex[unique_cities[i]] = i\n",
    "\n",
    "# The transition matrix should be ordered in such a way that\n",
    "# p_{'Aracaju (SE)','Rio de Janeiro (RJ)'} = transition_matrix[cityToIndex['Aracaju (SE)'],cityToIndex['Rio de Janeiro (RJ)']]\n",
    "# and represents the probability of travelling Aracaju (SE)->Rio de Janeiro (RJ)\n",
    "# Make sure that the transition_matrix does not contain np.nan from division by zero for instance\n",
    "transition_matrix = np.zeros((n_cities, n_cities)) # a numpy array of size (n_cities,n_cities)\n",
    "'''\n",
    "for i in transition_counts:\n",
    "    for j in range(n_cities):\n",
    "        for k in range(n_cities):\n",
    "            if i[0]==indexToCity[j] and i[1]==indexToCity[k]:\n",
    "                matr[j][k]+= (1 / len(transitions))\n",
    "'''\n",
    "for i in transition_counts:\n",
    "    a, b = cityToIndex[i[0]], cityToIndex[i[1]]\n",
    "    transition_matrix[a][b] = transition_counts[i] / len(transitions)\n",
    "\n",
    "print(transition_matrix)"
   ]
  },
  {
   "cell_type": "code",
   "execution_count": 17,
   "metadata": {
    "vscode": {
     "languageId": "plaintext"
    }
   },
   "outputs": [
    {
     "name": "stdout",
     "output_type": "stream",
     "text": [
      "[[0.         0.12983559 0.14487965 0.23218891 0.1057651  0.13120567\n",
      "  0.07570385 0.07839029 0.10203095]\n",
      " [0.15702265 0.         0.14675591 0.25273726 0.09704669 0.12417557\n",
      "  0.06478443 0.06527178 0.09220572]\n",
      " [0.15520318 0.12999309 0.         0.23751007 0.1019627  0.12979164\n",
      "  0.0695004  0.07252216 0.10351675]\n",
      " [0.15079296 0.1357189  0.14398869 0.         0.11705079 0.13275294\n",
      "  0.10131375 0.10119162 0.11719036]\n",
      " [0.16544797 0.1255253  0.14889057 0.28193814 0.         0.12161708\n",
      "  0.03992268 0.0389141  0.07774416]\n",
      " [0.16023622 0.1253937  0.14796588 0.24963911 0.09494751 0.\n",
      "  0.06223753 0.06404199 0.09553806]\n",
      " [0.16758846 0.1185846  0.14362177 0.34534642 0.05649718 0.11281594\n",
      "  0.         0.         0.05554564]\n",
      " [0.17060337 0.1174579  0.14733396 0.33910196 0.05413938 0.11412535\n",
      "  0.         0.         0.05723807]\n",
      " [0.1607619  0.12012698 0.15225397 0.28431746 0.07830688 0.12325926\n",
      "  0.03953439 0.04143915 0.        ]] \n",
      "\n",
      "[0.13690932 0.1132047  0.12780262 0.21081107 0.08752133 0.11210498\n",
      " 0.06184532 0.06290826 0.0868924 ] \n",
      "\n",
      "[0.13690932 0.1132047  0.12780262 0.21081107 0.08752133 0.11210498\n",
      " 0.06184532 0.06290826 0.0868924 ]\n"
     ]
    }
   ],
   "source": [
    "# This should be a numpy array of length n_cities which sums to 1 and is all positive\n",
    "'''\n",
    "def stationary_distribution(row=n_cities):\n",
    "    pi = np.full((1, row), 1 / row)\n",
    "    while True:\n",
    "        new_pi = np.dot(pi, transition_matrix)\n",
    "        if np.allclose(pi, new_pi):\n",
    "            return pi \n",
    "            break\n",
    "        pi = new_pi\n",
    "stationary_distribution_problem5 = stationary_distribution()\n",
    "'''\n",
    "#calculates the eigenvectors and eigenvalues we need\n",
    "normal_matrix = (transition_matrix.T / transition_matrix.T.sum(axis=0)).T\n",
    "evals, evecs = np.linalg.eig(normal_matrix.T)\n",
    "evec1 = evecs[:, np.isclose(evals, 1)]\n",
    "#print(evals)\n",
    "#print(evec1)\n",
    "evec1 = evecs[:, 0]\n",
    "stationary = evec1 / evec1.sum()\n",
    "stationary_distribution_problem5 = stationary.real\n",
    "print(normal_matrix,'\\n')\n",
    "print(stationary_distribution_problem5, '\\n')\n",
    "print(np.dot(stationary_distribution_problem5, normal_matrix))"
   ]
  },
  {
   "cell_type": "code",
   "execution_count": 18,
   "metadata": {
    "vscode": {
     "languageId": "plaintext"
    }
   },
   "outputs": [
    {
     "name": "stdout",
     "output_type": "stream",
     "text": [
      "3908 37224\n",
      "0.10498603051794542\n"
     ]
    }
   ],
   "source": [
    "# Compute the return probability for part 3 of problem 5\n",
    "sum, sum1 = 0, 0\n",
    "city_user = []\n",
    "\n",
    "with open(\"/Users/imchengliang/Downloads/Introduction to Data Science/flights(1).csv\", 'r') as f:\n",
    "    reader = csv.reader(f,delimiter=',',quotechar='\"',)\n",
    "    headers = next(reader) ## skip first line of header\n",
    "    for row in reader:\n",
    "        city_user.append(row[1])\n",
    "\n",
    "for i in range(len(transitions)):\n",
    "    if (transitions[i][0] == 'Aracaju (SE)') and (transitions[i+2][1] == 'Aracaju (SE)'):\n",
    "        # make sure that it's the same user who starts from Aracaju and back to Aracaju in 3 steps.\n",
    "        if city_user[i]==city_user[i+2]:\n",
    "            sum += 1\n",
    "    if transitions[i][0] == 'Aracaju (SE)':\n",
    "        sum1 += 1\n",
    "    \n",
    "print(sum, sum1)   \n",
    "return_probability_problem5 = float(sum / sum1)\n",
    "print(return_probability_problem5)"
   ]
  },
  {
   "cell_type": "markdown",
   "metadata": {},
   "source": [
    "# 6"
   ]
  },
  {
   "cell_type": "code",
   "execution_count": null,
   "metadata": {
    "vscode": {
     "languageId": "plaintext"
    }
   },
   "outputs": [],
   "source": [
    "# The code below will load data, split the data into train and test and run a \"black box\" algorithm on it\n",
    "# the result of the \"black box\" is stored in predictions_problem6, the true values will be stored in\n",
    "# Y_test_problem6\n",
    "import exam_extras\n",
    "from exam_extras import load_sms_problem6\n",
    "X_problem6, Y_problem6 = load_sms_problem6()\n",
    "\n",
    "X_train_problem6,X_test_problem6,Y_train_problem6,Y_test_problem6 = exam_extras.train_test_split(X_problem6,Y_problem6)\n",
    "predictions_problem6 = exam_extras.knn_predictions(X_train_problem6,Y_train_problem6,X_test_problem6,k=4)\n",
    "\n",
    "TP, FP, FN = 0,0,0\n",
    "for elt in range(len(predictions_problem6)):\n",
    "    if predictions_problem6[elt]==1 and Y_test_problem6[elt]==1:\n",
    "        TP += 1\n",
    "    elif predictions_problem6[elt]==1 and Y_test_problem6[elt]==0:\n",
    "        FP += 1\n",
    "    elif predictions_problem6[elt]==0 and Y_test_problem6[elt]==1:\n",
    "        FN += 1\n",
    "#print(TP)\n",
    "#print(FP)\n",
    "#print(FN)\n",
    "# Compute the precision of predictions_problem6 with respect to Y_test_problem6\n",
    "problem6_precision = float(TP/(TP+FP))\n",
    "#print(problem6_precision)\n",
    "\n",
    "#since this is binary, we can eventually reduce that l will be sqrt((-1/2n)ln(.025)). Plugging in n=118 gives \n",
    "# Compute the interval length l of precision of predictions_problem6 with respect to Y_test_problem6, with the same definition of l as in problem 4\n",
    "problem6_precision_l = .125\n",
    "\n",
    "# Repeat the same procedure but for recall\n",
    "problem6_recall = float(TP/(TP+FN))\n",
    "#print(problem6_recall)\n",
    "\n",
    "#since this is binary, we can eventually reduce that l will be sqrt((-1/2n)ln(.025)). Plugging in n=215 gives \n",
    "# should be 0.09\n",
    "problem6_recall_l = .093\n",
    "\n",
    "corre, wron = 0,0\n",
    "for elt in range(len(predictions_problem6)):\n",
    "    if predictions_problem6[elt]==Y_test_problem6[elt]:\n",
    "        corre += 1\n",
    "    else:\n",
    "        wron+=1\n",
    "print(corre)\n",
    "print(wron)\n",
    "# Repeat the same procedure but for accuracy or 0-1 loss\n",
    "problem6_accuracy = float(corre/(corre+wron))\n",
    "#print(problem6_accuracy)\n",
    "\n",
    "#since this is binary, we can eventually reduce that l will be sqrt((-1/2n)ln(.025)). Plugging in n=1672 gives \n",
    "# should be 0.03\n",
    "problem6_accuracy_l = .033\n",
    "print(sqrt((-1/(2*1672))*ln(.025)))"
   ]
  }
 ],
 "metadata": {
  "kernelspec": {
   "display_name": "SageMath 9.4",
   "language": "sage",
   "name": "SageMath-9.4"
  },
  "language_info": {
   "codemirror_mode": {
    "name": "ipython",
    "version": 3
   },
   "file_extension": ".py",
   "mimetype": "text/x-python",
   "name": "python",
   "nbconvert_exporter": "python",
   "pygments_lexer": "ipython3",
   "version": "3.9.5"
  },
  "orig_nbformat": 4
 },
 "nbformat": 4,
 "nbformat_minor": 2
}
