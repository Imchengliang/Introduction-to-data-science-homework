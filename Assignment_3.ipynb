{
 "cells": [
  {
   "cell_type": "markdown",
   "metadata": {
    "collapsed": false,
    "deletable": false
   },
   "source": [
    "# Assignment 3 for Course 1MS041\n",
    "Make         sure you pass the `# ... Test` cells and\n",
    " submit your solution notebook in the corresponding assignment on the course website. You can submit multiple times before the deadline         and your highest score will be used."
   ]
  },
  {
   "cell_type": "markdown",
   "metadata": {
    "collapsed": false,
    "deletable": false,
    "lx_assignment_number": "3",
    "lx_assignment_type": "ASSIGNMENT",
    "lx_assignment_type2print": "Assignment",
    "lx_problem_cell_type": "PROBLEM",
    "lx_problem_number": "0",
    "lx_problem_points": "1"
   },
   "source": [
    "---\n",
    "## Assignment 3, PROBLEM 0\n",
    "Maximum Points = 1"
   ]
  },
  {
   "cell_type": "code",
   "execution_count": 1,
   "metadata": {
    "collapsed": false,
    "deletable": false,
    "lx_assignment_number": "3",
    "lx_assignment_type": "ASSIGNMENT",
    "lx_assignment_type2print": "Assignment",
    "lx_problem_cell_type": "PROBLEM",
    "lx_problem_number": "0",
    "lx_problem_points": "1"
   },
   "outputs": [],
   "source": [
    "\n",
    "# replace myGitHubUsernameXXX by your GitHUb username (go to https://github.com and get a free account if you have none)\n",
    "#     for example Raazesh Sainudiin's GitHub username is lamastex\n",
    "# The actual task for PROMLEM 0 will be available at this URL as soon as the Windows COmputerlabs are fully tested: \n",
    "#  - https://github.com/datascience-intro/OSagnosticDESops\n",
    "\n",
    "GitHubUserName = 'imchengliang'"
   ]
  },
  {
   "cell_type": "markdown",
   "metadata": {
    "collapsed": false,
    "deletable": false,
    "lx_assignment_number": "3",
    "lx_assignment_type": "ASSIGNMENT",
    "lx_assignment_type2print": "Assignment",
    "lx_problem_cell_type": "PROBLEM",
    "lx_problem_number": "1",
    "lx_problem_points": "2"
   },
   "source": [
    "---\n",
    "## Assignment 3, PROBLEM 1\n",
    "Maximum Points = 2"
   ]
  },
  {
   "cell_type": "markdown",
   "metadata": {
    "collapsed": false,
    "deletable": false,
    "lx_assignment_number": "3",
    "lx_assignment_type": "ASSIGNMENT",
    "lx_assignment_type2print": "Assignment",
    "lx_problem_cell_type": "PROBLEM",
    "lx_problem_number": "1",
    "lx_problem_points": "2"
   },
   "source": [
    "\n",
    "Sometimes it is important to regress on count data, that is $Y_i$ corresponds to the count of something, taking values $0,1,\\ldots$. A reasonable distribution for count data is the Poisson distribution, that is we could consider\n",
    "$$\n",
    "    Y_i \\mid X_i \\sim \\text{Poisson}(\\lambda(X_i)), \\text{ where $\\lambda(X_i) = G(\\beta_0 + \\beta_1 X_i)$}\n",
    "$$\n",
    "where $G(x) = e^x$. The reason why $G(x) = e^x$ is two-fold, the first is that it always gives positive values no matter $x$, which fits the parameters space of the Poisson distribution, the second reason is that in practice it tends to be a better model for count data. Think of $X_i$ as denoting the presense or absence of something, then the rate-parameter $\\lambda(0) = e^{\\beta_0}$, and in the presense of $X_i = 1$ it becomes $\\lambda(1) = e^{\\beta_0 + \\beta_1} = e^{\\beta_0}e^{\\beta_1} = \\lambda(0)e^{\\beta_1}$, thus it is multiplicative. That is the presence of $X_i$ changes the rate with a constant factor (this is called a proportional model).\n",
    "\n",
    "Recall that a random variable $X \\sim Poisson(\\lambda)$ if its probability mass function is:\n",
    "\n",
    "$$\n",
    "f(x; \\lambda) = \\exp{(-\\lambda)} \\frac{\\lambda^x}{x!}, \\quad \\lambda > 0, \\quad x \\in \\{0,1,2,\\ldots\\}\n",
    "$$\n",
    "\n",
    "The assignment for you now is to do the motions from above, i.e. derive the conditional likelihood and apply it to a problem by filling in the missing parts of the code below.\n",
    "\n",
    "Hint, derive the log-likelihood on paper first then get rid of the factorial term."
   ]
  },
  {
   "cell_type": "code",
   "execution_count": 18,
   "metadata": {
    "collapsed": false,
    "deletable": false,
    "lx_assignment_number": "3",
    "lx_assignment_type": "ASSIGNMENT",
    "lx_assignment_type2print": "Assignment",
    "lx_problem_cell_type": "PROBLEM",
    "lx_problem_number": "1",
    "lx_problem_points": "2"
   },
   "outputs": [
    {
     "data": {
      "text/plain": [
       "      fun: -2514.6845561969585\n",
       " hess_inv: <2x2 LbfgsInvHessProduct with dtype=float64>\n",
       "      jac: array([ 185.01064118, 1279.00620367])\n",
       "  message: 'CONVERGENCE: NORM_OF_PROJECTED_GRADIENT_<=_PGTOL'\n",
       "     nfev: 6\n",
       "      nit: 1\n",
       "     njev: 2\n",
       "   status: 0\n",
       "  success: True\n",
       "        x: array([-5., -1.])"
      ]
     },
     "execution_count": 18,
     "metadata": {},
     "output_type": "execute_result"
    }
   ],
   "source": [
    "\n",
    "import numpy as np\n",
    "from scipy import optimize\n",
    "# do not change next two lines - this is the X,Y data\n",
    "X_samples= np.array([0, 1, 2, 3, 4, 5, 6, 7, 8, 9, 10, 11, 12, 13, 14, 15, 16, 17, 18, 19])\n",
    "Y_samples= np.array([16, 14, 16, 11, 16, 14, 9, 13, 13, 6, 9, 12, 6, 7, 5, 3, 4, 4, 2, 5])\n",
    "\n",
    "# finding MLE for Poisson Regression without the factorial part\n",
    "# do not Change the name of the next function - just replace XXX\n",
    "def negLogLklOPoissonRegression_wo_factorial(X,Y,params):\n",
    "    '''XXX'''\n",
    "    beta0 = params[0]\n",
    "    beta1 = params[1]\n",
    "    lambdaX = np.exp(beta0+beta1*X)\n",
    "    term1 = np.exp(-lambdaX)\n",
    "    term2 = lambdaX^Y\n",
    "    term3 = []\n",
    "    for i in Y:\n",
    "        term3.append(factorial(int(i)))\n",
    "    negLogLkl = np.sum(-lambdaX - np.log(term2) + np.log(term3))\n",
    "    return negLogLkl\n",
    "\n",
    "# you should only change XXX below and not anything else\n",
    "parameter_bounding_box=((-5.0, 5.0), (-1.0, 1.0)) # specify the constraints for each parameter - some guess work.\n",
    "initial_arguments = np.array([1.0,1.0]) # point in 2D to initialise the minimize algorithm\n",
    "\n",
    "#Create a function that can be sent into the optimizer\n",
    "negLogLklOPoissonRegression_wo_factorial_XY = lambda params: negLogLklOPoissonRegression_wo_factorial(X_samples,Y_samples,params)\n",
    "\n",
    "result_Assignment3Problem1 = optimize.minimize(negLogLklOPoissonRegression_wo_factorial_XY, \\\n",
    "                                        initial_arguments, bounds=parameter_bounding_box)\n",
    "result_Assignment3Problem1"
   ]
  },
  {
   "cell_type": "markdown",
   "metadata": {
    "collapsed": false,
    "deletable": false,
    "lx_assignment_number": "3",
    "lx_assignment_type": "ASSIGNMENT",
    "lx_assignment_type2print": "Assignment",
    "lx_problem_cell_type": "PROBLEM",
    "lx_problem_number": "2",
    "lx_problem_points": "1"
   },
   "source": [
    "---\n",
    "## Assignment 3, PROBLEM 2\n",
    "Maximum Points = 1"
   ]
  },
  {
   "cell_type": "markdown",
   "metadata": {
    "collapsed": false,
    "deletable": false,
    "lx_assignment_number": "3",
    "lx_assignment_type": "ASSIGNMENT",
    "lx_assignment_type2print": "Assignment",
    "lx_problem_cell_type": "PROBLEM",
    "lx_problem_number": "2",
    "lx_problem_points": "1"
   },
   "source": [
    "\n",
    "Consider an instance space $X$ consisting of integers $1$ to $1000$ and a target concept $c^\\ast = \\{x: 501 \\leq x \\leq 1000\\}$. If your hypothesis class $\\mathcal H$ is $\\{h_j:\\, h_j=\\{x: j \\leq x \\leq 1000\\}, j=1,\\ldots,1000\\}$. How large must the training set $S$ be to ensure that with probability $99\\%$ any consistent hypothesis (training error 0) will have a true error less than $10\\%$. (Hint: use the theorem above)."
   ]
  },
  {
   "cell_type": "code",
   "execution_count": 19,
   "metadata": {
    "collapsed": false,
    "deletable": false,
    "lx_assignment_number": "3",
    "lx_assignment_type": "ASSIGNMENT",
    "lx_assignment_type2print": "Assignment",
    "lx_problem_cell_type": "PROBLEM",
    "lx_problem_number": "2",
    "lx_problem_points": "1"
   },
   "outputs": [],
   "source": [
    "# Replace the XXX below with the number of training samples needed to satisfy the problem\n",
    "N2 = 140"
   ]
  },
  {
   "cell_type": "code",
   "execution_count": 20,
   "metadata": {
    "collapsed": false,
    "deletable": false,
    "lx_assignment_number": "3",
    "lx_assignment_type": "ASSIGNMENT",
    "lx_assignment_type2print": "Assignment",
    "lx_problem_cell_type": "Test",
    "lx_problem_number": "2",
    "lx_problem_points": "1"
   },
   "outputs": [
    {
     "name": "stdout",
     "output_type": "stream",
     "text": [
      "Your answer is an integer, hopefully it is correct.\n"
     ]
    }
   ],
   "source": [
    "# test that your answer is indeed a number by evaluating this cell after you replaced XXX above and evaluated it.\n",
    "try:\n",
    "    assert((type(N2) is Integer) or (type(N2) is int))\n",
    "    print(\"Your answer is an integer, hopefully it is correct.\")\n",
    "except AssertionError:\n",
    "    print(\"Try again! and make sure you are producing an integer of class Integer or int\")"
   ]
  },
  {
   "cell_type": "markdown",
   "metadata": {
    "collapsed": false,
    "deletable": false,
    "lx_assignment_number": "3",
    "lx_assignment_type": "ASSIGNMENT",
    "lx_assignment_type2print": "Assignment",
    "lx_problem_cell_type": "Test",
    "lx_problem_number": "2",
    "lx_problem_points": "1"
   },
   "source": [
    "---\n",
    "#### Local Test for Assignment 3, PROBLEM 2\n",
    "Evaluate cell below to make sure your answer is valid.                             You **should not** modify anything in the cell below when evaluating it to do a local test of                             your solution.\n",
    "You may need to include and evaluate code snippets from lecture notebooks in cells above to make the local test work correctly sometimes (see error messages for clues). This is meant to help you become efficient at recalling materials covered in lectures that relate to this problem. Such local tests will generally not be available in the exam."
   ]
  },
  {
   "cell_type": "markdown",
   "metadata": {
    "collapsed": false,
    "deletable": false,
    "lx_assignment_number": "3",
    "lx_assignment_type": "ASSIGNMENT",
    "lx_assignment_type2print": "Assignment",
    "lx_problem_cell_type": "PROBLEM",
    "lx_problem_number": "3",
    "lx_problem_points": "3"
   },
   "source": [
    "---\n",
    "## Assignment 3, PROBLEM 3\n",
    "Maximum Points = 3"
   ]
  },
  {
   "cell_type": "markdown",
   "metadata": {
    "collapsed": false,
    "deletable": false,
    "lx_assignment_number": "3",
    "lx_assignment_type": "ASSIGNMENT",
    "lx_assignment_type2print": "Assignment",
    "lx_problem_cell_type": "PROBLEM",
    "lx_problem_number": "3",
    "lx_problem_points": "3"
   },
   "source": [
    "\n",
    "The following datasets are subsets of $d$-dimensional '0/1' vectors with label +1. The remaining '0/1' vectors are '-1'. Determine if the following three problems are linearly separable:\n",
    "\n",
    "1. $c^\\ast = \\{(0,1,0),(0,1,1),(1,0,0),(1,1,1)\\}$, and $X$ is all $0/1$ vectors in 3 dimensions.\n",
    "2. $c^\\ast = \\{(0,1,1),(0,1,0),(1,1,0),(1,1,1)\\}$, and $X$ is all $0/1$ vectors in 3 dimensions.\n",
    "3. $c^\\ast = \\{(0,1,0,0),(0,1,0,1),(0,1,1,0),(1,0,0,0),(1,1,0,0),(1,1,0,1),(1,1,1,0),(1,1,1,1)\\}$, and $X$ is all $0/1$ vectors in 4 dimensions."
   ]
  },
  {
   "cell_type": "code",
   "execution_count": 21,
   "metadata": {
    "collapsed": false,
    "deletable": false,
    "lx_assignment_number": "3",
    "lx_assignment_type": "ASSIGNMENT",
    "lx_assignment_type2print": "Assignment",
    "lx_problem_cell_type": "PROBLEM",
    "lx_problem_number": "3",
    "lx_problem_points": "3"
   },
   "outputs": [],
   "source": [
    "# Replace XXX, YYY, ZZZ with True if true and False if false, they represent the three problems\n",
    "Solution_Q1 = False\n",
    "Solution_Q2 = True\n",
    "Solution_Q3 = True"
   ]
  },
  {
   "cell_type": "markdown",
   "metadata": {
    "collapsed": false,
    "deletable": false,
    "lx_assignment_number": "3",
    "lx_assignment_type": "ASSIGNMENT",
    "lx_assignment_type2print": "Assignment",
    "lx_problem_cell_type": "Test",
    "lx_problem_number": "3",
    "lx_problem_points": "3"
   },
   "source": [
    "---\n",
    "#### Local Test for Assignment 3, PROBLEM 3\n",
    "Evaluate cell below to make sure your answer is valid.                             You **should not** modify anything in the cell below when evaluating it to do a local test of                             your solution.\n",
    "You may need to include and evaluate code snippets from lecture notebooks in cells above to make the local test work correctly sometimes (see error messages for clues). This is meant to help you become efficient at recalling materials covered in lectures that relate to this problem. Such local tests will generally not be available in the exam."
   ]
  },
  {
   "cell_type": "code",
   "execution_count": 22,
   "metadata": {
    "collapsed": false,
    "deletable": false,
    "lx_assignment_number": "3",
    "lx_assignment_type": "ASSIGNMENT",
    "lx_assignment_type2print": "Assignment",
    "lx_problem_cell_type": "Test",
    "lx_problem_number": "3",
    "lx_problem_points": "3"
   },
   "outputs": [
    {
     "name": "stdout",
     "output_type": "stream",
     "text": [
      "Your answer Q1 is a boolean, hopefully it is correct.\n",
      "Your answer Q2 is a boolean, hopefully it is correct.\n",
      "Your answer Q3 is a boolean, hopefully it is correct.\n"
     ]
    }
   ],
   "source": [
    "# test that your answer is indeed booleans by evaluating this cell after you replaced XXX, YYY, ZZZ above and evaluated it.\n",
    "try:\n",
    "    assert(type(Solution_Q1) is bool)\n",
    "    print(\"Your answer Q1 is a boolean, hopefully it is correct.\")\n",
    "except AssertionError:\n",
    "    print(\"Try again! and make sure you are producing a boolean (True or False)\")\n",
    "try:\n",
    "    assert(type(Solution_Q2) is bool)\n",
    "    print(\"Your answer Q2 is a boolean, hopefully it is correct.\")\n",
    "except AssertionError:\n",
    "    print(\"Try again! and make sure you are producing a boolean (True or False)\")\n",
    "try:\n",
    "    assert(type(Solution_Q3) is bool)\n",
    "    print(\"Your answer Q3 is a boolean, hopefully it is correct.\")\n",
    "except AssertionError:\n",
    "    print(\"Try again! and make sure you are producing a boolean (True or False)\")"
   ]
  },
  {
   "cell_type": "markdown",
   "metadata": {
    "collapsed": false,
    "deletable": false,
    "lx_assignment_number": "3",
    "lx_assignment_type": "ASSIGNMENT",
    "lx_assignment_type2print": "Assignment",
    "lx_problem_cell_type": "PROBLEM",
    "lx_problem_number": "4",
    "lx_problem_points": "1"
   },
   "source": [
    "---\n",
    "## Assignment 3, PROBLEM 4\n",
    "Maximum Points = 1"
   ]
  },
  {
   "cell_type": "markdown",
   "metadata": {
    "collapsed": false,
    "deletable": false,
    "lx_assignment_number": "3",
    "lx_assignment_type": "ASSIGNMENT",
    "lx_assignment_type2print": "Assignment",
    "lx_problem_cell_type": "PROBLEM",
    "lx_problem_number": "4",
    "lx_problem_points": "1"
   },
   "source": [
    "\n",
    "In Problem 2 we looked at the following problem:\n",
    "Consider an instance space $X$ consisting of integers $1$ to $1000$ and a target concept $c^\\ast = \\{x: 501 \\leq x \\leq 1000\\}$. If your hypothesis class $\\mathcal H$ is $\\{h_j:\\, h_j=\\{x: j \\leq x \\leq 1000\\}, j=1,\\ldots,1000\\}$. \n",
    "\n",
    "What is the VC-dimension of our hypothesis class? That is, what is the maximum number of points such that $\\mathcal H$ shatters that set?"
   ]
  },
  {
   "cell_type": "code",
   "execution_count": 23,
   "metadata": {
    "collapsed": false,
    "deletable": false,
    "lx_assignment_number": "3",
    "lx_assignment_type": "ASSIGNMENT",
    "lx_assignment_type2print": "Assignment",
    "lx_problem_cell_type": "PROBLEM",
    "lx_problem_number": "4",
    "lx_problem_points": "1"
   },
   "outputs": [],
   "source": [
    "# Replace XXX with the VC dimension\n",
    "VC_dimension = 1"
   ]
  },
  {
   "cell_type": "markdown",
   "metadata": {
    "collapsed": false,
    "deletable": false,
    "lx_assignment_number": "3",
    "lx_assignment_type": "ASSIGNMENT",
    "lx_assignment_type2print": "Assignment",
    "lx_problem_cell_type": "Test",
    "lx_problem_number": "4",
    "lx_problem_points": "1"
   },
   "source": [
    "---\n",
    "#### Local Test for Assignment 3, PROBLEM 4\n",
    "Evaluate cell below to make sure your answer is valid.                             You **should not** modify anything in the cell below when evaluating it to do a local test of                             your solution.\n",
    "You may need to include and evaluate code snippets from lecture notebooks in cells above to make the local test work correctly sometimes (see error messages for clues). This is meant to help you become efficient at recalling materials covered in lectures that relate to this problem. Such local tests will generally not be available in the exam."
   ]
  },
  {
   "cell_type": "code",
   "execution_count": 24,
   "metadata": {
    "collapsed": false,
    "deletable": false,
    "lx_assignment_number": "3",
    "lx_assignment_type": "ASSIGNMENT",
    "lx_assignment_type2print": "Assignment",
    "lx_problem_cell_type": "Test",
    "lx_problem_number": "4",
    "lx_problem_points": "1"
   },
   "outputs": [
    {
     "name": "stdout",
     "output_type": "stream",
     "text": [
      "Your answer is an integer, hopefully it is correct.\n"
     ]
    }
   ],
   "source": [
    "# test that your answer is indeed a number by evaluating this cell after you replaced XXX above and evaluated it.\n",
    "\n",
    "try:\n",
    "    assert((type(VC_dimension) is Integer) or (type(VC_dimension) is int))\n",
    "    print(\"Your answer is an integer, hopefully it is correct.\")\n",
    "except AssertionError:\n",
    "    print(\"Try again! and make sure you are producing an integer of class Integer or int\")"
   ]
  },
  {
   "cell_type": "markdown",
   "metadata": {
    "collapsed": false,
    "deletable": false,
    "lx_assignment_number": "3",
    "lx_assignment_type": "ASSIGNMENT",
    "lx_assignment_type2print": "Assignment",
    "lx_problem_cell_type": "PROBLEM",
    "lx_problem_number": "5",
    "lx_problem_points": "1"
   },
   "source": [
    "---\n",
    "## Assignment 3, PROBLEM 5\n",
    "Maximum Points = 1"
   ]
  },
  {
   "cell_type": "markdown",
   "metadata": {
    "collapsed": false,
    "deletable": false,
    "lx_assignment_number": "3",
    "lx_assignment_type": "ASSIGNMENT",
    "lx_assignment_type2print": "Assignment",
    "lx_problem_cell_type": "PROBLEM",
    "lx_problem_number": "5",
    "lx_problem_points": "1"
   },
   "source": [
    "\n",
    "Revisit problem 2 using the VC-dimension that you used in Problem 4, by instead applying the VC-bound.\n",
    "Consider an instance space $X$ consisting of integers $1$ to $1000$ and a target concept $c^\\ast = \\{x: 501 \\leq x \\leq 1000\\}$. If your hypothesis class $\\mathcal H$ is $\\{h_j:\\, h_j=\\{x: j \\leq x \\leq 1000\\}, j=1,\\ldots,1000\\}$. How large must the training set $S$ be to ensure that with probability $99\\%$ any consistent hypothesis (training error 0) will have a true error less than $10\\%$."
   ]
  },
  {
   "cell_type": "code",
   "execution_count": null,
   "metadata": {
    "collapsed": false,
    "deletable": false,
    "lx_assignment_number": "3",
    "lx_assignment_type": "ASSIGNMENT",
    "lx_assignment_type2print": "Assignment",
    "lx_problem_cell_type": "PROBLEM",
    "lx_problem_number": "5",
    "lx_problem_points": "1"
   },
   "outputs": [],
   "source": [
    "# Replace the XXX below with the number of training samples needed to satisfy the problem\n",
    "N5 = 30"
   ]
  },
  {
   "cell_type": "markdown",
   "metadata": {
    "collapsed": false,
    "deletable": false,
    "lx_assignment_number": "3",
    "lx_assignment_type": "ASSIGNMENT",
    "lx_assignment_type2print": "Assignment",
    "lx_problem_cell_type": "Test",
    "lx_problem_number": "5",
    "lx_problem_points": "1"
   },
   "source": [
    "---\n",
    "#### Local Test for Assignment 3, PROBLEM 5\n",
    "Evaluate cell below to make sure your answer is valid.                             You **should not** modify anything in the cell below when evaluating it to do a local test of                             your solution.\n",
    "You may need to include and evaluate code snippets from lecture notebooks in cells above to make the local test work correctly sometimes (see error messages for clues). This is meant to help you become efficient at recalling materials covered in lectures that relate to this problem. Such local tests will generally not be available in the exam."
   ]
  },
  {
   "cell_type": "code",
   "execution_count": null,
   "metadata": {
    "collapsed": false,
    "deletable": false,
    "lx_assignment_number": "3",
    "lx_assignment_type": "ASSIGNMENT",
    "lx_assignment_type2print": "Assignment",
    "lx_problem_cell_type": "Test",
    "lx_problem_number": "5",
    "lx_problem_points": "1"
   },
   "outputs": [],
   "source": [
    "# test that your answer is indeed a number by evaluating this cell after you replaced XXX above and evaluated it.\n",
    "try:\n",
    "    assert((type(N5) is Integer) or (type(N5) is int))\n",
    "    print(\"Your answer is an integer, hopefully it is correct.\")\n",
    "except AssertionError:\n",
    "    print(\"Try again! and make sure you are producing an integer of class Integer or int\")"
   ]
  }
 ],
 "metadata": {
  "kernelspec": {
   "display_name": "SageMath 9.4",
   "language": "sage",
   "name": "SageMath-9.4",
   "resource_dir": "/ext/jupyter/kernels/sage-9.1"
  },
  "language_info": {
   "codemirror_mode": {
    "name": "ipython",
    "version": 3
   },
   "file_extension": ".py",
   "mimetype": "text/x-python",
   "name": "sage",
   "nbconvert_exporter": "python",
   "pygments_lexer": "ipython3",
   "version": "3.9.5"
  },
  "lx_assignment_number": 3,
  "lx_course_instance": "2021",
  "lx_course_name": "Introduction to Data Science: A Comp-Math-Stat Approach",
  "lx_course_number": "1MS041"
 },
 "nbformat": 4,
 "nbformat_minor": 4
}
