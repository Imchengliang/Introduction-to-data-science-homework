{
 "cells": [
  {
   "cell_type": "markdown",
   "metadata": {
    "deletable": false
   },
   "source": [
    "# Exam 12th of January 2022 for the course 1MS041 (Introduction to Data Science / Introduktion till dataanalys)\n",
    "\n",
    "1. Fill in your anonymous exam code in the cell below.\n",
    "2. Complete the Problems by following instructions.\n",
    "3. When done, submit this file with your solutions saved, following the instruction sheet."
   ]
  },
  {
   "cell_type": "code",
   "execution_count": null,
   "metadata": {
    "deletable": false
   },
   "outputs": [],
   "source": [
    "# Enter your anonymous exam id by replacing XXXX in this cell below\n",
    "# do NOT delete this cell\n",
    "MyAnonymousExamID = \"TES-0006-TNJ\""
   ]
  },
  {
   "cell_type": "markdown",
   "metadata": {
    "deletable": false,
    "lx_assignment_number": "vB",
    "lx_assignment_type": "EXAM",
    "lx_assignment_type2print": "Exam",
    "lx_problem_cell_type": "PROBLEM",
    "lx_problem_number": "1",
    "lx_problem_points": "8"
   },
   "source": [
    "---\n",
    "## Exam vB, PROBLEM 1\n",
    "Maximum Points = 8"
   ]
  },
  {
   "cell_type": "markdown",
   "metadata": {
    "deletable": false,
    "lx_assignment_number": "vB",
    "lx_assignment_type": "EXAM",
    "lx_assignment_type2print": "Exam",
    "lx_problem_cell_type": "PROBLEM",
    "lx_problem_number": "1",
    "lx_problem_points": "8"
   },
   "source": [
    "\n",
    "## Probability warmup\n",
    "Let's say we have an exam question which consists of $20$ yes/no questions. \n",
    "From past performance of similar students, a randomly chosen student will know the correct answer to $N \\sim \\text{binom}(20,11/20)$ questions. Furthermore, we assume that the student will guess the answer with equal probability to each question they don't know the answer to, i.e. given $N$ we define $Z \\sim \\text{binom}(20-N,1/2)$ as the number of correctly guessed answers. Define $Y = N + Z$, i.e., $Y$ represents the number of total correct answers.\n",
    "\n",
    "We are interested in setting a deterministic threshold $T$, i.e., we would pass a student at threshold $T$ if $Y \\geq T$. Here $T \\in \\{0,1,2,\\ldots,20\\}$.\n",
    "\n",
    "1. [5p] For each threshold $T$, compute the probability that the student *knows* less than $10$ correct answers given that the student passed, i.e., $N < 10$. Put the answer in `problem11_probabilities` as a list.\n",
    "2. [3p] What is the smallest value of $T$ such that if $Y \\geq T$ then we are 90\\% certain that $N \\geq 10$?"
   ]
  },
  {
   "cell_type": "code",
   "execution_count": 1,
   "metadata": {
    "deletable": false,
    "lx_assignment_number": "vB",
    "lx_assignment_type": "EXAM",
    "lx_assignment_type2print": "Exam",
    "lx_problem_cell_type": "PROBLEM",
    "lx_problem_number": "1",
    "lx_problem_points": "8"
   },
   "outputs": [],
   "source": [
    "\n",
    "# Hint the PMF of N is p_N(k) where p_N is\n",
    "# PMF for binomial is (n!/(k!*(n-k)!)))*((1-p)^(n-k))*((p)^k)\n",
    "p = 11/20\n",
    "p_N = lambda k: binomial(20,k)*(1-p)^(20-k)*(p)^k"
   ]
  },
  {
   "cell_type": "code",
   "execution_count": 4,
   "metadata": {
    "deletable": false,
    "lx_assignment_number": "vB",
    "lx_assignment_type": "EXAM",
    "lx_assignment_type2print": "Exam",
    "lx_problem_cell_type": "PROBLEM",
    "lx_problem_number": "1",
    "lx_problem_points": "8"
   },
   "outputs": [
    {
     "name": "stdout",
     "output_type": "stream",
     "text": [
      "[0.24928935982841194, 0.24928935982832895, 0.24928935982261063, 0.24928935963549287, 0.24928935576839342, 0.2492892991583498, 0.2492886751893026, 0.24928330207958463, 0.24924628523366033, 0.24903902630299066, 0.24808569900431446, 0.24460820014975942, 0.2349439695781525, 0.21475641513175922, 0.18267139196621004, 0.14272522447072053, 0.10227042692681919, 0.06762809950564581, 0.04166472439122746, 0.024151134340423385, 0.013287462679601616]\n"
     ]
    }
   ],
   "source": [
    "\n",
    "# Part 1: \n",
    "# replace XXX to represent P(N < 10) for T = [0,1,2,...,20], i.e. your answer should be a list\n",
    "# of length 21.\n",
    "def thresh(): #generating all of the binomial pdf values for N\n",
    "    lst = []\n",
    "    for T in range(21):\n",
    "        lst.append(float(p_N(T)))\n",
    "    return lst\n",
    "binp = thresh()\n",
    "\n",
    "def fort(t): #uses Bayes rule to calculate each T\n",
    "    num, den = 0, 0\n",
    "    #this calculates the numerator, or the probability that Y>=T|N<10 multiplied by p(n<10)\n",
    "    for val in range(10): \n",
    "        binp2 = binp[:10]\n",
    "        total = 0\n",
    "        for elt in binp2:\n",
    "            total += elt\n",
    "        mod = 1/total\n",
    "        binp3 = []\n",
    "        for elt in binp2:\n",
    "            binp3.append(elt * mod)\n",
    "        #print(binp3)\n",
    "        if val >= t:\n",
    "            num += binp3[val]\n",
    "        else:\n",
    "            su = 0\n",
    "            k = t-val\n",
    "            while k <= 20-val:\n",
    "                su += float(binomial(20-val,k)*(1-.5)^(20-val-k)*(.5)^k)\n",
    "                k += 1\n",
    "            num += binp3[val]*su\n",
    "        totall = 0\n",
    "    for elt in binp2:\n",
    "        totall+=elt\n",
    "    num = num*totall\n",
    "\n",
    "    #this calculates the denominator, or the probability that Y>=T\n",
    "    for val in range(21): \n",
    "        if val >= t:\n",
    "            den += binp[val]\n",
    "        else:\n",
    "            su = 0\n",
    "            k = t-val\n",
    "            while k <= 20-val:\n",
    "                su += float(binomial(20-val,k)*(1-.5)^(20-val-k)*(.5)^k)\n",
    "                k += 1\n",
    "            den += binp[val]*su\n",
    "    return num/den\n",
    "    \n",
    "finall = []\n",
    "for elt in range(21):\n",
    "    finall.append(fort(elt))\n",
    "print(finall)\n",
    "problem11_probabilities = finall"
   ]
  },
  {
   "cell_type": "code",
   "execution_count": 4,
   "metadata": {
    "deletable": false,
    "lx_assignment_number": "vB",
    "lx_assignment_type": "EXAM",
    "lx_assignment_type2print": "Exam",
    "lx_problem_cell_type": "PROBLEM",
    "lx_problem_number": "1",
    "lx_problem_points": "8"
   },
   "outputs": [],
   "source": [
    "# Part 2: Give an integer between 0 and 20 which is the answer to 2.\n",
    "problem12_T = 17"
   ]
  },
  {
   "cell_type": "code",
   "execution_count": 5,
   "metadata": {
    "deletable": false,
    "lx_assignment_number": "vB",
    "lx_assignment_type": "EXAM",
    "lx_assignment_type2print": "Exam",
    "lx_problem_cell_type": "TEST",
    "lx_problem_number": "1",
    "lx_problem_points": "8",
    "lx_test_only": "True"
   },
   "outputs": [
    {
     "name": "stdout",
     "output_type": "stream",
     "text": [
      "Beginning tests for problem 1\n",
      "\n",
      "Your answers for problem11_probabilities differed on 0 number of positions by more than 10^(-3)\n",
      "\n",
      "The number of points you have scored for this problem is 8 out of 8\n",
      "The number of points you have accumulated thus far is   8 out of 8\n"
     ]
    }
   ],
   "source": []
  },
  {
   "cell_type": "markdown",
   "metadata": {
    "deletable": false,
    "lx_assignment_number": "vB",
    "lx_assignment_type": "EXAM",
    "lx_assignment_type2print": "Exam",
    "lx_problem_cell_type": "PROBLEM",
    "lx_problem_number": "2",
    "lx_problem_points": "8"
   },
   "source": [
    "---\n",
    "## Exam vB, PROBLEM 2\n",
    "Maximum Points = 8"
   ]
  },
  {
   "cell_type": "markdown",
   "metadata": {
    "deletable": false,
    "lx_assignment_number": "vB",
    "lx_assignment_type": "EXAM",
    "lx_assignment_type2print": "Exam",
    "lx_problem_cell_type": "PROBLEM",
    "lx_problem_number": "2",
    "lx_problem_points": "8"
   },
   "source": [
    "\n",
    "## Random variable generation and transformation\n",
    "\n",
    "The purpose of this problem is to show that you can implement your own sampler, this will be built in the following three steps:\n",
    "\n",
    "1. [2p] Implement a Linear Congruential Generator where you tested out a good combination (a large $M$ with $a,b$ satisfying the Hull-Dobell (Thm 6.8)) of parameters. Follow the instructions in the code block.\n",
    "2. [2p] Using a generator construct random numbers from the uniform $[0,1]$ distribution.\n",
    "3. [4p] Using a uniform $[0,1]$ random generator, generate samples from \n",
    "\n",
    "$$p_0(x) = \\frac{\\pi}{2}|\\sin(2\\pi x)|, \\quad x \\in [0,1] \\enspace .$$\n",
    "\n",
    "Using the **Accept-Reject** sampler (**Algorithm 1** in TFDS notes) with sampling density given by the uniform $[0,1]$ distribution."
   ]
  },
  {
   "cell_type": "code",
   "execution_count": 21,
   "metadata": {
    "deletable": false,
    "lx_assignment_number": "vB",
    "lx_assignment_type": "EXAM",
    "lx_assignment_type2print": "Exam",
    "lx_problem_cell_type": "PROBLEM",
    "lx_problem_number": "2",
    "lx_problem_points": "8"
   },
   "outputs": [
    {
     "name": "stdout",
     "output_type": "stream",
     "text": [
      "[13, 1049, 13212, 7919, 4166, 50376, 42665, 54173, 65292, 47236, 3776, 21126, 11636, 20793, 52198, 48241, 13614]\n"
     ]
    }
   ],
   "source": [
    "\n",
    "def problem2_LCG(size=None, seed = 0):\n",
    "    \"\"\"\n",
    "    A linear congruential generator that generates pseudo random numbers according to size.\n",
    "    \n",
    "    Parameters\n",
    "    -------------\n",
    "    size : an integer denoting how many samples should be produced\n",
    "    seed : the starting point of the LCG, i.e. u0 in the notes.\n",
    "    \n",
    "    Returns\n",
    "    -------------\n",
    "    out : a list of the pseudo random numbers\n",
    "    \"\"\"\n",
    "    #seed 13 works well apparently, shouldn't matter though\n",
    "    #I messed around with some values, until finding M=\n",
    "    #this is the generator taken from notebook 7\n",
    "    #m, a, c, = 256, 137, 123 \n",
    "    m, a, c, = (2^16)+1, 75, 74\n",
    "    n = size\n",
    "    x = seed # the seed\n",
    "    retValue = [Mod(x,m)]  # start the list with x=x0\n",
    "    for i in range(2, n+1, 1):\n",
    "        x = Mod(a * x + c, m) # the generator, using modular arithmetic\n",
    "        retValue.append(x) # append the new x to the list\n",
    "    return retValue\n",
    "print(problem2_LCG(17,13))"
   ]
  },
  {
   "cell_type": "code",
   "execution_count": 23,
   "metadata": {
    "deletable": false,
    "lx_assignment_number": "vB",
    "lx_assignment_type": "EXAM",
    "lx_assignment_type2print": "Exam",
    "lx_problem_cell_type": "PROBLEM",
    "lx_problem_number": "2",
    "lx_problem_points": "8"
   },
   "outputs": [
    {
     "name": "stdout",
     "output_type": "stream",
     "text": [
      "[0.13, 0.1049, 0.13212, 0.7919, 0.4166, 0.50376, 0.42665]\n"
     ]
    }
   ],
   "source": [
    "\n",
    "def problem2_uniform(generator=None, period = 1, size=None, seed=0):\n",
    "    \"\"\"\n",
    "    Takes a generator and produces samples from the uniform [0,1] distribution according\n",
    "    to size.\n",
    "    \n",
    "    Parameters\n",
    "    -------------\n",
    "    generator : a function of type generator(size,seed) and produces the same result as problem2_LCG, i.e. pseudo random numbers in the range {0,1,...,period-1}\n",
    "    period : the period of the generator\n",
    "    seed : the seed to be used in the generator provided\n",
    "    size : an integer denoting how many samples should be produced\n",
    "    \n",
    "    Returns\n",
    "    --------------\n",
    "    out : a list of the uniform pseudo random numbers\n",
    "    \"\"\"\n",
    "    l = []\n",
    "    for i in generator(size,seed):\n",
    "        n = 0\n",
    "        if int(i) == 0:\n",
    "            l.append(i)\n",
    "        else:\n",
    "            n = len(str(i))\n",
    "            l.append(float(int(i)/10^n))\n",
    "    return l\n",
    "\n",
    "    '''\n",
    "    outs = []\n",
    "    iters = ceil(size / period) \n",
    "    #allows for custom periods, will rescale the output to handle this\n",
    "    i = 0\n",
    "    for elt in generator(size, seed):\n",
    "        new = float(elt)\n",
    "        #new = new / 256\n",
    "        new = new / ((2^16)+1)\n",
    "        outs.append(new)\n",
    "        i += 1\n",
    "        if i >= period:\n",
    "            break\n",
    "    if iters > 1:\n",
    "        outs = outs * iters\n",
    "    outs = outs[:size]\n",
    "    return outs\n",
    "    '''\n",
    "    \n",
    "print(problem2_uniform(problem2_LCG, 4, 7, 13))"
   ]
  },
  {
   "cell_type": "code",
   "execution_count": 34,
   "metadata": {
    "deletable": false,
    "lx_assignment_number": "vB",
    "lx_assignment_type": "EXAM",
    "lx_assignment_type2print": "Exam",
    "lx_problem_cell_type": "PROBLEM",
    "lx_problem_number": "2",
    "lx_problem_points": "8"
   },
   "outputs": [],
   "source": [
    "\n",
    "def problem2_accept_reject(uniformGenerator=None, n_iterations=None, seed=0):\n",
    "    \"\"\"\n",
    "    Takes a generator that produces uniform pseudo random [0,1] numbers \n",
    "    and produces samples from (pi/2)*abs(sin(x*2*pi)) using an Accept-Reject\n",
    "    sampler with the uniform distribution as the proposal distribution\n",
    "    \n",
    "    Parameters\n",
    "    -------------\n",
    "    generator : a function of the type generator(size,seed) that produces uniform pseudo random\n",
    "    numbers from [0,1]\n",
    "    seed : the seed to be used in the generator provided\n",
    "    size : an integer denoting how many samples should be produced\n",
    "    \n",
    "    Returns\n",
    "    --------------\n",
    "    out : a list of the pseudo random numbers with the specified distribution\n",
    "    \"\"\"\n",
    "    l =[]\n",
    "    for i in uniformGenerator(n_iterations, seed):\n",
    "        p = float((pi/2)*abs(sin(2*pi*i)))\n",
    "        l.append(p)\n",
    "    return l\n",
    "\n",
    "    '''\n",
    "    c=pi/2\n",
    "    samples = []\n",
    "    for elt in uniformGenerator(problem2_LCG, 256, n_iterations, seed):\n",
    "        new = float(elt)\n",
    "        if new<=((pi/2)*abs(sin(2*pi*new)))/(c*1):\n",
    "            samples.append(new)   \n",
    "    return samples\n",
    "print(problem2_accept_reject(problem2_uniform, 20, 13))\n",
    "    '''"
   ]
  },
  {
   "cell_type": "markdown",
   "metadata": {
    "deletable": false,
    "lx_assignment_number": "vB",
    "lx_assignment_type": "EXAM",
    "lx_assignment_type2print": "Exam",
    "lx_problem_cell_type": "Test",
    "lx_problem_number": "2",
    "lx_problem_points": "8"
   },
   "source": [
    "---\n",
    "#### Local Test for Exam vB, PROBLEM 2\n",
    "Evaluate cell below to make sure your answer is valid.                             You **should not** modify anything in the cell below when evaluating it to do a local test of                             your solution.\n",
    "You may need to include and evaluate code snippets from lecture notebooks in cells above to make the local test work correctly sometimes (see error messages for clues). This is meant to help you become efficient at recalling materials covered in lectures that relate to this problem. Such local tests will generally not be available in the exam."
   ]
  },
  {
   "cell_type": "code",
   "execution_count": 35,
   "metadata": {
    "deletable": false,
    "lx_assignment_number": "vB",
    "lx_assignment_type": "EXAM",
    "lx_assignment_type2print": "Exam",
    "lx_problem_cell_type": "Test",
    "lx_problem_number": "2",
    "lx_problem_points": "8"
   },
   "outputs": [
    {
     "name": "stdout",
     "output_type": "stream",
     "text": [
      "LCG output: [1, 149, 11249, 57305, 38044, 35283, 24819, 26463, 18689, 25472]\n",
      "Uniform sampler [0.1, 0.149, 0.11249, 0.57305, 0.38044, 0.35283, 0.24819, 0.26463, 0.18689, 0.25472]\n",
      "Accept-Reject sampler [0.9232909152452283, 1.2649746688139947, 1.0200755576868727, 0.6959254432622658, 1.072114336267915, 1.2541834750134246, 1.5706947482266786, 1.564164511241313, 1.4489119927290925, 1.5701056071876394, 0.0976460851308693, 1.5379992852974302, 0.7425129450315603, 1.0989345805788033, 1.5701960835104305, 1.272075974318542, 1.4759156326726548, 1.2590984755152332, 1.037452990931763, 1.5650142427780667]\n"
     ]
    }
   ],
   "source": [
    "\n",
    "# If you managed to solve all three parts you can test the following code to see if it runs\n",
    "# you have to change the period to match your LCG though, this is marked as XXX.\n",
    "# It is a very good idea to check these things using the histogram function in sagemath\n",
    "# try with a larger number of samples, up to 10000 should run\n",
    "\n",
    "print(\"LCG output: %s\" % problem2_LCG(size=10, seed = 1))\n",
    "\n",
    "period = 256\n",
    "\n",
    "print(\"Uniform sampler %s\" % problem2_uniform(generator=problem2_LCG, period = period, size=10, seed=1))\n",
    "\n",
    "uniform_sampler = lambda size,seed: problem2_uniform(generator=problem2_LCG, period = period, size=size, seed=seed)\n",
    "\n",
    "#print(\"Accept-Reject sampler %s\" % problem2_accept_reject(uniformGenerator = problem2_uniform, n_iterations=20, seed=1))\n",
    "print(\"Accept-Reject sampler %s\" % problem2_accept_reject(uniformGenerator = uniform_sampler, n_iterations=20, seed=1))"
   ]
  },
  {
   "cell_type": "code",
   "execution_count": 31,
   "metadata": {
    "deletable": false,
    "lx_assignment_number": "vB",
    "lx_assignment_type": "EXAM",
    "lx_assignment_type2print": "Exam",
    "lx_problem_cell_type": "Test",
    "lx_problem_number": "2",
    "lx_problem_points": "8"
   },
   "outputs": [
    {
     "name": "stdout",
     "output_type": "stream",
     "text": [
      "Accept-Reject sampler [1.3793315657811056, 0.8903510963538943, 0.6745105026614143, 0.3468803058481825, 0.6590723365017155, 1.555093186998338, 1.0461247426708629, 1.2541705726183165, 0.825727657867365, 1.5130790717600755, 0.33653508933612036, 1.4069890740252056, 1.4621787270322988, 1.3031654784288293, 0.5578190358997993, 0.7502612894847258, 1.5544755801421692, 1.2121628760116407, 1.5060266572428316, 0.34871096250239736]\n"
     ]
    }
   ],
   "source": [
    "\n",
    "# If however you did not manage to implement either part 1 or part 2 but still want to check part 3, you can run the code below\n",
    "\n",
    "def testUniformGenerator(size, seed):\n",
    "    set_random_seed(seed)\n",
    "    \n",
    "    return [random() for s in range(size)]\n",
    "\n",
    "print(\"Accept-Reject sampler %s\" % problem2_accept_reject(uniformGenerator=testUniformGenerator, n_iterations=20, seed=1))"
   ]
  },
  {
   "cell_type": "code",
   "execution_count": 11,
   "metadata": {
    "deletable": false,
    "lx_assignment_number": "vB",
    "lx_assignment_type": "EXAM",
    "lx_assignment_type2print": "Exam",
    "lx_problem_cell_type": "TEST",
    "lx_problem_number": "2",
    "lx_problem_points": "8",
    "lx_test_only": "True"
   },
   "outputs": [
    {
     "data": {
      "image/png": "[encoded data removed]",
      "text/plain": [
       "Graphics object consisting of 1 graphics primitive"
      ]
     },
     "metadata": {},
     "output_type": "display_data"
    },
    {
     "data": {
      "image/png": "[encoded data removed]",
      "text/plain": [
       "Graphics object consisting of 1 graphics primitive"
      ]
     },
     "metadata": {},
     "output_type": "display_data"
    },
    {
     "name": "stdout",
     "output_type": "stream",
     "text": [
      "Beginning tests for problem 2\n",
      "You changed the format of the problem, ajabaja! Anyways, look at the histogram below, your accept-reject does not sample from the correct distribution, can you spot the error in your code?\n",
      "LCG outputs correct size\n",
      "Your period is less than 1000, which is not a good pseudo random generator\n",
      "problem2_uniform outputs correct size\n",
      "The output of problem2_uniform is greater than 1\n",
      "The accept-reject sampler runs with your LCG sampler and produces unique results\n",
      "The accept-reject sampler runs with your LCG sampler and produces numbers between 0 and 1\n",
      "testUniformGenerator() takes 2 positional arguments but 4 were given\n",
      "testUniformGenerator() takes 2 positional arguments but 4 were given\n",
      "\n",
      "The number of points you have scored for this problem is 4 out of 8\n",
      "The number of points you have accumulated thus far is   12 out of 16\n"
     ]
    }
   ],
   "source": []
  },
  {
   "cell_type": "markdown",
   "metadata": {
    "deletable": false,
    "lx_assignment_number": "vB",
    "lx_assignment_type": "EXAM",
    "lx_assignment_type2print": "Exam",
    "lx_problem_cell_type": "PROBLEM",
    "lx_problem_number": "3",
    "lx_problem_points": "8"
   },
   "source": [
    "---\n",
    "## Exam vB, PROBLEM 3\n",
    "Maximum Points = 8"
   ]
  },
  {
   "cell_type": "markdown",
   "metadata": {
    "deletable": false,
    "lx_assignment_number": "vB",
    "lx_assignment_type": "EXAM",
    "lx_assignment_type2print": "Exam",
    "lx_problem_cell_type": "PROBLEM",
    "lx_problem_number": "3",
    "lx_problem_points": "8"
   },
   "source": [
    "\n",
    "## Concentration of measure\n",
    "\n",
    "As you recall, we said that concentration of measure was simply the phenomenon where we expect that the probability of a large deviation of some quantity becoming smaller as we observe more samples: [0.4 points per correct answer]\n",
    "\n",
    "1. Which of the following will exponentially concentrate, i.e. for some $C_1,C_2,C_3,C_4 $ \n",
    "$$\n",
    "    P(Z - \\mathbb{E}[Z] \\geq \\epsilon) \\leq C_1 e^{-C_2 n \\epsilon^2} \\wedge C_3 e^{-C_4 n (\\epsilon+1)} \\enspace .\n",
    "$$\n",
    "\n",
    "    1. The empirical mean of i.i.d. sub-Gaussian random variables?\n",
    "    2. The empirical mean of i.i.d. sub-Exponential random variables?\n",
    "    3. The empirical mean of i.i.d. random variables with finite variance?\n",
    "    4. The empirical variance of i.i.d. random variables with finite variance?\n",
    "    5. The empirical variance of i.i.d. sub-Gaussian random variables?\n",
    "    6. The empirical variance of i.i.d. sub-Exponential random variables?\n",
    "    7. The empirical third moment of i.i.d. sub-Gaussian random variables?\n",
    "    8. The empirical fourth moment of i.i.d. sub-Gaussian random variables?\n",
    "    9. The empirical mean of i.i.d. deterministic random variables?\n",
    "    10. The empirical tenth moment of i.i.d. Bernoulli random variables?\n",
    "\n",
    "2. Which of the above will concentrate in the weaker sense, that for some $C_1$\n",
    "$$\n",
    "    P(Z - \\mathbb{E}[Z] \\geq \\epsilon) \\leq \\frac{C_1}{n \\epsilon^2}?\n",
    "$$"
   ]
  },
  {
   "cell_type": "code",
   "execution_count": 12,
   "metadata": {
    "deletable": false,
    "lx_assignment_number": "vB",
    "lx_assignment_type": "EXAM",
    "lx_assignment_type2print": "Exam",
    "lx_problem_cell_type": "PROBLEM",
    "lx_problem_number": "3",
    "lx_problem_points": "8"
   },
   "outputs": [],
   "source": [
    "\n",
    "# Answers to part 1, which of the alternatives exponentially concentrate, answer as a list\n",
    "# i.e. [1,4,5] that is example 1, 4, and 5 concentrate\n",
    "#problem3_answer_1 = [A,I] # Hey, you should have read the board in the exam room, A->1, I->9\n",
    "problem3_answer_1 = [1,9] # TEACHER addition\n",
    "#problem3_answer_1 = [2,5,10]"
   ]
  },
  {
   "cell_type": "code",
   "execution_count": 13,
   "metadata": {
    "deletable": false,
    "lx_assignment_number": "vB",
    "lx_assignment_type": "EXAM",
    "lx_assignment_type2print": "Exam",
    "lx_problem_cell_type": "PROBLEM",
    "lx_problem_number": "3",
    "lx_problem_points": "8"
   },
   "outputs": [],
   "source": [
    "\n",
    "# Answers to part 2, which of the alternatives concentrate in the weaker sense, answer as a list\n",
    "# i.e. [1,4,5] that is example 1, 4, and 5 concentrate\n",
    "#problem3_answer_2 = [A,C,D,E,I] # Same thing here, maaan\n",
    "problem3_answer_2 = [1,3,4,5,9]\n",
    "#problem3_answer_2 = [3,5,7]"
   ]
  },
  {
   "cell_type": "code",
   "execution_count": 14,
   "metadata": {
    "deletable": false,
    "lx_assignment_number": "vB",
    "lx_assignment_type": "EXAM",
    "lx_assignment_type2print": "Exam",
    "lx_problem_cell_type": "TEST",
    "lx_problem_number": "3",
    "lx_problem_points": "8",
    "lx_test_only": "True"
   },
   "outputs": [
    {
     "name": "stdout",
     "output_type": "stream",
     "text": [
      "Beginning tests for problem 3\n",
      "\n",
      "Correct answers for part1: 7\n",
      "Correct answers for part2: 4\n",
      "\n",
      "The number of points you have scored for this problem is 4 out of 8\n",
      "The number of points you have accumulated thus far is   16 out of 24\n"
     ]
    }
   ],
   "source": []
  },
  {
   "cell_type": "markdown",
   "metadata": {
    "deletable": false,
    "lx_assignment_number": "vB",
    "lx_assignment_type": "EXAM",
    "lx_assignment_type2print": "Exam",
    "lx_problem_cell_type": "PROBLEM",
    "lx_problem_number": "4",
    "lx_problem_points": "8"
   },
   "source": [
    "---\n",
    "## Exam vB, PROBLEM 4\n",
    "Maximum Points = 8"
   ]
  },
  {
   "cell_type": "markdown",
   "metadata": {
    "deletable": false,
    "lx_assignment_number": "vB",
    "lx_assignment_type": "EXAM",
    "lx_assignment_type2print": "Exam",
    "lx_problem_cell_type": "PROBLEM",
    "lx_problem_number": "4",
    "lx_problem_points": "8"
   },
   "source": [
    "\n",
    "## SMS spam filtering [8p]\n",
    "\n",
    "In the following problem we will explore SMS spam texts. The dataset is the `SMS Spam Collection Dataset` and we have provided for you a way to load the data. If you run the appropriate cell below, the result will be in the `spam_no_spam` variable. The result is a `list` of `tuples` with the first position in the tuple being the SMS text and the second being a flag `0 = not spam` and `1 = spam`.\n",
    "\n",
    "1. [3p] Let $X$ be the random variable that represents each SMS text (an entry in the list), and let $Y$ represent whether text is spam or not i.e. $Y \\in \\{0,1\\}$. Thus $\\mathbb{P}(Y = 1)$ is the probability that we get a spam. The goal is to estimate:\n",
    "$$\n",
    "    \\mathbb{P}(Y = 1 | \\text{\"free\" or \"prize\" is in } X) \\enspace .\n",
    "$$\n",
    "That is, the probability that the SMS is spam given that \"free\" or \"prize\" occurs in the SMS. \n",
    "Hint: it is good to remove the upper/lower case of words so that we can also find \"Free\" and \"Prize\"; this can be done with `text.lower()` if `text` a string.\n",
    "\n",
    "2. [3p] Provide a \"90\\%\" interval of confidence around the true probability. I.e. use the Hoeffding inequality to obtain for your estimate $\\hat P$ of the above quantity. Find $l > 0$ such that the following holds:\n",
    "$$\n",
    "    \\mathbb{P}(\\hat P - l \\leq \\mathbb{E}[\\hat P] \\leq \\hat P + l) \\geq 0.9 \\enspace .\n",
    "$$\n",
    "3. [2p] Repeat the two exercises above for \"free\" appearing twice in the SMS."
   ]
  },
  {
   "cell_type": "code",
   "execution_count": null,
   "metadata": {},
   "outputs": [],
   "source": []
  },
  {
   "cell_type": "code",
   "execution_count": 57,
   "metadata": {
    "deletable": false,
    "lx_assignment_number": "vB",
    "lx_assignment_type": "EXAM",
    "lx_assignment_type2print": "Exam",
    "lx_problem_cell_type": "PROBLEM",
    "lx_problem_number": "4",
    "lx_problem_points": "8"
   },
   "outputs": [
    {
     "name": "stdout",
     "output_type": "stream",
     "text": [
      "345\n",
      "279\n",
      "0.808695652173913\n"
     ]
    }
   ],
   "source": [
    "\n",
    "# Run this cell to get the SMS text data\n",
    "#from exam_extras import load_sms\n",
    "#spam_no_spam = load_sms()\n",
    "import csv\n",
    "import numpy as np\n",
    "file_path = \"/Users/imchengliang/Downloads/Introduction to Data Science/spam.csv\"\n",
    "lst = []\n",
    "with open(file_path) as file:\n",
    "    reader = csv.reader(file)\n",
    "    next(reader)\n",
    "    for row in reader:\n",
    "        lst.append(row)\n",
    "\n",
    "X, Y = [], []\n",
    "for i in lst:\n",
    "    X.append(i[1].lower())\n",
    "    if i[0] == \"spam\":\n",
    "        Y.append(1)\n",
    "    elif i[0] == \"ham\":\n",
    "        Y.append(0)\n",
    "\n",
    "#print(Y)\n",
    "\n",
    "pos = []\n",
    "sum, ind = 0, 0\n",
    "for i in X:\n",
    "    if (\"free\" in i) or (\"prize\" in i):\n",
    "        sum += 1\n",
    "        pos.append(ind)\n",
    "    ind += 1\n",
    "#print(pos)\n",
    "print(sum)\n",
    "sum2 = 0\n",
    "for elt in pos: #for every text with free or prize checks if it is marked 0 or 1\n",
    "    sum2 += Y[elt]\n",
    "print(sum2)\n",
    "# fill in the estimate for part 1 here (should be a number between 0 and 1)\n",
    "problem4_hatP = float(sum2/sum)\n",
    "print(problem4_hatP)\n"
   ]
  },
  {
   "cell_type": "code",
   "execution_count": 16,
   "metadata": {
    "deletable": false,
    "lx_assignment_number": "vB",
    "lx_assignment_type": "EXAM",
    "lx_assignment_type2print": "Exam",
    "lx_problem_cell_type": "PROBLEM",
    "lx_problem_number": "4",
    "lx_problem_points": "8"
   },
   "outputs": [],
   "source": [
    "#print(spam_no_spam[1][1])\n",
    "#I also tried using re to convert the noncompatible text but could not get it to work\n",
    "'''\n",
    "X,Y = [],[]\n",
    "for elt in spam_no_spam:\n",
    "    X.append(elt[0].lower()) #gives us our list of texts with the text converted to lowercase\n",
    "    Y.append(elt[1])\n",
    "sum = 0\n",
    "pos = []\n",
    "ind = 0\n",
    "for elt in X:\n",
    "    words = elt.split() #splits each text into a list of words\n",
    "    for elt in words:\n",
    "        if elt == \"free\" or elt == \"prize\": #checks if the words are in the text\n",
    "            sum += 1\n",
    "            pos.append(ind)\n",
    "        break #if they are adds one to sum and breaks\n",
    "    ind += 1\n",
    "#print(sum)\n",
    "sum2 = 0\n",
    "for elt in pos: #for every text with free or prize checks if it is marked 0 or 1\n",
    "    sum2 += Y[elt]\n",
    "#print(sum2)\n",
    "# fill in the estimate for part 1 here (should be a number between 0 and 1)\n",
    "problem4_hatP = float(sum2/sum)\n",
    "# 93/115 is close to answer 0.81\n",
    "#print(problem4_hatP)\n",
    "'''"
   ]
  },
  {
   "cell_type": "code",
   "execution_count": 56,
   "metadata": {
    "deletable": false,
    "lx_assignment_number": "vB",
    "lx_assignment_type": "EXAM",
    "lx_assignment_type2print": "Exam",
    "lx_problem_cell_type": "PROBLEM",
    "lx_problem_number": "4",
    "lx_problem_points": "8"
   },
   "outputs": [
    {
     "name": "stdout",
     "output_type": "stream",
     "text": [
      "0.0658911297229392\n"
     ]
    }
   ],
   "source": [
    "#since this is binary, we can eventually reduce that l will be sqrt((-1/2n)ln(.05)). Plugging in n=35 gives \n",
    "problem4_l = .369\n",
    "print(sqrt((-1/(2*345))*ln(.05)))"
   ]
  },
  {
   "cell_type": "code",
   "execution_count": 59,
   "metadata": {
    "deletable": false,
    "lx_assignment_number": "vB",
    "lx_assignment_type": "EXAM",
    "lx_assignment_type2print": "Exam",
    "lx_problem_cell_type": "PROBLEM",
    "lx_problem_number": "4",
    "lx_problem_points": "8"
   },
   "outputs": [
    {
     "name": "stdout",
     "output_type": "stream",
     "text": [
      "38\n",
      "37\n",
      "0.9736842105263158\n"
     ]
    }
   ],
   "source": [
    "'''\n",
    "X,Y = [],[]\n",
    "for elt in spam_no_spam:\n",
    "    X.append(elt[0].lower()) #gives us our list of texts with the text converted to lowercase\n",
    "    Y.append(elt[1])\n",
    "'''\n",
    "sum = 0\n",
    "pos = []\n",
    "ind = 0\n",
    "for elt in X:\n",
    "    '''\n",
    "    words = elt.split() #splits each text into a list of words\n",
    "    for elt in words:\n",
    "        if elt == \"free\": #checks if the words are in the text\n",
    "            words2 = words[:]\n",
    "            words2.remove(\"free\")\n",
    "            for elt in words2:\n",
    "                if elt == \"free\":\n",
    "                    sum += 1\n",
    "                    pos.append(ind)\n",
    "        break #if they are adds one to sum and breaks\n",
    "    '''\n",
    "    if elt.count(\"free\") == 2:\n",
    "        sum += 1\n",
    "        pos.append(ind)\n",
    "    ind += 1\n",
    "print(sum)\n",
    "sum2 = 0\n",
    "for elt in pos: #for every text with free or prize checks if it is marked 0 or 1\n",
    "    sum2 += Y[elt]\n",
    "print(sum2)\n",
    "# fill in the estimate for part 1 here (should be a number between 0 and 1)\n",
    "# fill in the estimate for hatP for the double free question in part 3 here (should be a number between 0 and 1)\n",
    "problem4_hatP2 = float(sum2/sum)\n",
    "print(problem4_hatP2)\n",
    "# 37/38 is close to answer"
   ]
  },
  {
   "cell_type": "code",
   "execution_count": 60,
   "metadata": {
    "deletable": false,
    "lx_assignment_number": "vB",
    "lx_assignment_type": "EXAM",
    "lx_assignment_type2print": "Exam",
    "lx_problem_cell_type": "PROBLEM",
    "lx_problem_number": "4",
    "lx_problem_points": "8"
   },
   "outputs": [
    {
     "name": "stdout",
     "output_type": "stream",
     "text": [
      "0.198538484720681\n"
     ]
    }
   ],
   "source": [
    "#since this is binary, we can eventually reduce that l will be sqrt((-1/2n)ln(.05)). Plugging in n=38 gives \n",
    "# fill in the estimate for l for the double free question in part 3 here\n",
    "problem4_l2 = .199\n",
    "print(sqrt((-1/(2*38))*ln(.05)))"
   ]
  },
  {
   "cell_type": "code",
   "execution_count": 20,
   "metadata": {
    "deletable": false,
    "lx_assignment_number": "vB",
    "lx_assignment_type": "EXAM",
    "lx_assignment_type2print": "Exam",
    "lx_problem_cell_type": "TEST",
    "lx_problem_number": "4",
    "lx_problem_points": "8",
    "lx_test_only": "True"
   },
   "outputs": [
    {
     "name": "stdout",
     "output_type": "stream",
     "text": [
      "Beginning tests for problem 4\n",
      "\n",
      "The correct value of problem4_hatP is 0.81\n",
      "The correct value of problem4_l is 0.08\n",
      "Your hatP2 is close enough\n",
      "Your l2 is close enough\n",
      "\n",
      "The number of points you have scored for this problem is 2 out of 8\n",
      "The number of points you have accumulated thus far is   18 out of 32\n"
     ]
    }
   ],
   "source": []
  },
  {
   "cell_type": "markdown",
   "metadata": {
    "deletable": false,
    "lx_assignment_number": "vB",
    "lx_assignment_type": "EXAM",
    "lx_assignment_type2print": "Exam",
    "lx_problem_cell_type": "PROBLEM",
    "lx_problem_number": "5",
    "lx_problem_points": "8"
   },
   "source": [
    "---\n",
    "## Exam vB, PROBLEM 5\n",
    "Maximum Points = 8"
   ]
  },
  {
   "cell_type": "markdown",
   "metadata": {
    "deletable": false,
    "lx_assignment_number": "vB",
    "lx_assignment_type": "EXAM",
    "lx_assignment_type2print": "Exam",
    "lx_problem_cell_type": "PROBLEM",
    "lx_problem_number": "5",
    "lx_problem_points": "8"
   },
   "source": [
    "\n",
    "## Markovian travel\n",
    "\n",
    "The dataset `Travel Dataset - Datathon 2019` is a simulated dataset designed to mimic real corporate travel systems -- focusing on flights and hotels. The file is at `data/flights.csv` in the same folder as `Exam.ipynb`, i.e. you can use the path `data/flights.csv` from the notebook to access the file.\n",
    "\n",
    "1. [2p] In the first code-box \n",
    "    1. Load the csv from file `data/flights.csv`\n",
    "    2. Fill in the value of the variables as specified by their names.\n",
    "2. [2p] In the second code-box your goal is to estimate a Markov chain transition matrix for the travels of these users. For example, if we enumerate the cities according to alphabetical order, the first city `'Aracaju (SE)'` would correspond to $0$. Each row of the file corresponds to one flight, i.e. it has a starting city and an ending city. We model this as a stationary Markov chain, i.e. each user's travel trajectory is a realization of the Markov chain, $X_t$. Here, $X_t$ is the current city the user is at, at step $t$, and $X_{t+1}$ is the city the user travels to at the next time step. This means that to each row in the file there is a corresponding pair $(X_{t},X_{t+1})$. The stationarity assumption gives that for all $t$ there is a transition density $p$ such that $P(X_{t+1} = y | X_t = x) = p(x,y)$ (for all $x,y$). The transition matrix should be `n_cities` x `n_citites` in size.\n",
    "3. [2p] Use the transition matrix to compute out the stationary distribution.\n",
    "4. [2p] Given that we start in 'Aracaju (SE)' what is the probability that after 3 steps we will be back in 'Aracaju (SE)'?"
   ]
  },
  {
   "cell_type": "code",
   "execution_count": 2,
   "metadata": {
    "deletable": false,
    "lx_assignment_number": "vB",
    "lx_assignment_type": "EXAM",
    "lx_assignment_type2print": "Exam",
    "lx_problem_cell_type": "PROBLEM",
    "lx_problem_number": "5",
    "lx_problem_points": "8"
   },
   "outputs": [
    {
     "name": "stdout",
     "output_type": "stream",
     "text": [
      "9\n",
      "1335\n",
      "271888\n"
     ]
    }
   ],
   "source": [
    "import csv,sys\n",
    "rows = 0\n",
    "cities = []\n",
    "codes = []\n",
    "with open(\"/Users/imchengliang/Downloads/Introduction to Data Science/flights(1).csv\", 'r') as f:\n",
    "        reader = csv.reader(f, delimiter=',', quotechar='\"',)\n",
    "        headers = next(reader) ## skip first line of header\n",
    "        for row in reader:\n",
    "            rows += 1\n",
    "            code, city1, city2 = row[1], row[2],row[3]\n",
    "            if city1 not in cities:\n",
    "                cities.append(city1)\n",
    "            if city2 not in cities:\n",
    "                cities.append(city2)\n",
    "            if code not in codes:\n",
    "                codes.append(code)\n",
    "print(len(cities))\n",
    "print(len(codes))\n",
    "print(rows)\n",
    "number_of_cities = len(cities)\n",
    "number_of_userCodes = len(codes)\n",
    "number_of_observations = rows"
   ]
  },
  {
   "cell_type": "code",
   "execution_count": 3,
   "metadata": {
    "deletable": false,
    "lx_assignment_number": "vB",
    "lx_assignment_type": "EXAM",
    "lx_assignment_type2print": "Exam",
    "lx_problem_cell_type": "PROBLEM",
    "lx_problem_number": "5",
    "lx_problem_points": "8"
   },
   "outputs": [],
   "source": [
    "\n",
    "# This is a very useful function that you can use for part 2. You have seen this before when parsing the\n",
    "# pride and prejudice book.\n",
    "\n",
    "def makeFreqDict(myDataList):\n",
    "    '''Make a frequency mapping out of a list of data.\n",
    "\n",
    "    Param myDataList, a list of data.\n",
    "    Return a dictionary mapping each unique data value to its frequency count.'''\n",
    "\n",
    "    freqDict = {} # start with an empty dictionary\n",
    "\n",
    "    for res in myDataList:\n",
    "        if res in freqDict: # the data value already exists as a key\n",
    "                freqDict[res] = freqDict[res] + 1 # add 1 to the count using sage integers\n",
    "        else: # the data value does not exist as a key value\n",
    "            freqDict[res] = 1 # add a new key-value pair for this new data value, frequency 1\n",
    "\n",
    "    return freqDict # return the dictionary created"
   ]
  },
  {
   "cell_type": "code",
   "execution_count": 4,
   "metadata": {
    "deletable": false,
    "lx_assignment_number": "vB",
    "lx_assignment_type": "EXAM",
    "lx_assignment_type2print": "Exam",
    "lx_problem_cell_type": "PROBLEM",
    "lx_problem_number": "5",
    "lx_problem_points": "8"
   },
   "outputs": [
    {
     "name": "stdout",
     "output_type": "stream",
     "text": [
      "[[0.         0.0177757  0.01983537 0.03178882 0.01448023 0.01796328\n",
      "  0.01036456 0.01073236 0.01396899]\n",
      " [0.0177757  0.         0.01661346 0.02861105 0.01098614 0.01405726\n",
      "  0.0073339  0.00738907 0.01043812]\n",
      " [0.01983537 0.01661346 0.         0.03035441 0.0130311  0.01658771\n",
      "  0.00888233 0.00926852 0.01322971]\n",
      " [0.03178882 0.02861105 0.03035441 0.         0.0246756  0.02798579\n",
      "  0.02135806 0.02133231 0.02470503]\n",
      " [0.01448023 0.01098614 0.0130311  0.0246756  0.         0.01064409\n",
      "  0.00349409 0.00340581 0.00680427]\n",
      " [0.01796328 0.01405726 0.01658771 0.02798579 0.01064409 0.\n",
      "  0.00697714 0.00717943 0.01071029]\n",
      " [0.01036456 0.0073339  0.00888233 0.02135806 0.00349409 0.00697714\n",
      "  0.         0.         0.00343524]\n",
      " [0.01073236 0.00738907 0.00926852 0.02133231 0.00340581 0.00717943\n",
      "  0.         0.         0.00360075]\n",
      " [0.01396899 0.01043812 0.01322971 0.02470503 0.00680427 0.01071029\n",
      "  0.00343524 0.00360075 0.        ]]\n"
     ]
    }
   ],
   "source": [
    "import numpy as np\n",
    "\n",
    "# Count the different transitions\n",
    "cities, transitions = [], [] # A list containing tuples ex: ('Aracaju (SE)','Rio de Janeiro (RJ)') of all transitions in the text\n",
    "with open(\"/Users/imchengliang/Downloads/Introduction to Data Science/flights(1).csv\", 'r') as f:\n",
    "        reader = csv.reader(f, delimiter=',', quotechar='\"',)\n",
    "        headers = next(reader) ## skip first line of header\n",
    "        for row in reader:\n",
    "            cities.append(row[2])\n",
    "            transitions.append(tuple([row[2], row[3]]))\n",
    "\n",
    "unique_cities = sorted(set(cities)) # The unique cities\n",
    "n_cities = len(unique_cities) # The number of unique citites\n",
    "transition_counts = makeFreqDict(transitions) # A dictionary that counts the number of each transition\n",
    "#indexToCity = XXX # A dictionary that maps the n-1 number to the n:th unique_city,\n",
    "# ex: 0:'Aracaju (SE)'\n",
    "#cityToIndex = XXX # The inverse function of indexToWord, \n",
    "# ex: 'Aracaju (SE)':0\n",
    "indexToCity, cityToIndex = {}, {}\n",
    "for i in range(n_cities):\n",
    "    indexToCity[i] = unique_cities[i]\n",
    "    cityToIndex[unique_cities[i]] = i\n",
    "\n",
    "# The transition matrix should be ordered in such a way that\n",
    "# p_{'Aracaju (SE)','Rio de Janeiro (RJ)'} = transition_matrix[cityToIndex['Aracaju (SE)'],cityToIndex['Rio de Janeiro (RJ)']]\n",
    "# and represents the probability of travelling Aracaju (SE)->Rio de Janeiro (RJ)\n",
    "# Make sure that the transition_matrix does not contain np.nan from division by zero for instance\n",
    "transition_matrix = np.zeros((n_cities, n_cities)) # a numpy array of size (n_cities,n_cities)\n",
    "'''\n",
    "for i in transition_counts:\n",
    "    for j in range(n_cities):\n",
    "        for k in range(n_cities):\n",
    "            if i[0]==indexToCity[j] and i[1]==indexToCity[k]:\n",
    "                matr[j][k]+= (1 / len(transitions))\n",
    "'''\n",
    "for i in transition_counts:\n",
    "    a, b = cityToIndex[i[0]], cityToIndex[i[1]]\n",
    "    transition_matrix[a][b] = transition_counts[i] / len(transitions)\n",
    "\n",
    "print(transition_matrix)"
   ]
  },
  {
   "cell_type": "code",
   "execution_count": 28,
   "metadata": {},
   "outputs": [
    {
     "name": "stdout",
     "output_type": "stream",
     "text": [
      "[[0.         0.12983559 0.14487965 0.23218891 0.1057651  0.13120567\n",
      "  0.07570385 0.07839029 0.10203095]\n",
      " [0.15702265 0.         0.14675591 0.25273726 0.09704669 0.12417557\n",
      "  0.06478443 0.06527178 0.09220572]\n",
      " [0.15520318 0.12999309 0.         0.23751007 0.1019627  0.12979164\n",
      "  0.0695004  0.07252216 0.10351675]\n",
      " [0.15079296 0.1357189  0.14398869 0.         0.11705079 0.13275294\n",
      "  0.10131375 0.10119162 0.11719036]\n",
      " [0.16544797 0.1255253  0.14889057 0.28193814 0.         0.12161708\n",
      "  0.03992268 0.0389141  0.07774416]\n",
      " [0.16023622 0.1253937  0.14796588 0.24963911 0.09494751 0.\n",
      "  0.06223753 0.06404199 0.09553806]\n",
      " [0.16758846 0.1185846  0.14362177 0.34534642 0.05649718 0.11281594\n",
      "  0.         0.         0.05554564]\n",
      " [0.17060337 0.1174579  0.14733396 0.33910196 0.05413938 0.11412535\n",
      "  0.         0.         0.05723807]\n",
      " [0.1607619  0.12012698 0.15225397 0.28431746 0.07830688 0.12325926\n",
      "  0.03953439 0.04143915 0.        ]] \n",
      "\n",
      "[0.13690932 0.1132047  0.12780262 0.21081107 0.08752133 0.11210498\n",
      " 0.06184532 0.06290826 0.0868924 ] \n",
      "\n",
      "[0.13690932 0.1132047  0.12780262 0.21081107 0.08752133 0.11210498\n",
      " 0.06184532 0.06290826 0.0868924 ]\n"
     ]
    }
   ],
   "source": [
    "# This should be a numpy array of length n_cities which sums to 1 and is all positive\n",
    "'''\n",
    "def stationary_distribution(row=n_cities):\n",
    "    pi = np.full((1, row), 1 / row)\n",
    "    while True:\n",
    "        new_pi = np.dot(pi, transition_matrix)\n",
    "        if np.allclose(pi, new_pi):\n",
    "            return pi \n",
    "            break\n",
    "        pi = new_pi\n",
    "stationary_distribution_problem5 = stationary_distribution()\n",
    "'''\n",
    "#calculates the eigenvectors and eigenvalues we need\n",
    "normal_matrix = (transition_matrix.T / transition_matrix.T.sum(axis=0)).T\n",
    "evals, evecs = np.linalg.eig(normal_matrix.T)\n",
    "evec1 = evecs[:, np.isclose(evals, 1)]\n",
    "#print(evals)\n",
    "#print(evec1)\n",
    "evec1 = evecs[:, 0]\n",
    "stationary = evec1 / evec1.sum()\n",
    "stationary_distribution_problem5 = stationary.real\n",
    "print(normal_matrix,'\\n')\n",
    "print(stationary_distribution_problem5, '\\n')\n",
    "print(np.dot(stationary_distribution_problem5, normal_matrix))"
   ]
  },
  {
   "cell_type": "code",
   "execution_count": 161,
   "metadata": {
    "deletable": false,
    "lx_assignment_number": "vB",
    "lx_assignment_type": "EXAM",
    "lx_assignment_type2print": "Exam",
    "lx_problem_cell_type": "PROBLEM",
    "lx_problem_number": "5",
    "lx_problem_points": "8"
   },
   "outputs": [
    {
     "name": "stdout",
     "output_type": "stream",
     "text": [
      "3908 37224\n",
      "0.10498603051794542\n"
     ]
    }
   ],
   "source": [
    "\n",
    "# Compute the return probability for part 3 of problem 5\n",
    "sum, sum1 = 0, 0\n",
    "city_user = []\n",
    "\n",
    "with open(\"/Users/imchengliang/Downloads/Introduction to Data Science/flights(1).csv\", 'r') as f:\n",
    "    reader = csv.reader(f,delimiter=',',quotechar='\"',)\n",
    "    headers = next(reader) ## skip first line of header\n",
    "    for row in reader:\n",
    "        city_user.append(row[1])\n",
    "\n",
    "for i in range(len(transitions)):\n",
    "    if (transitions[i][0] == 'Aracaju (SE)') and (transitions[i+2][1] == 'Aracaju (SE)'):\n",
    "        # make sure that it's the same user who starts from Aracaju and back to Aracaju in 3 steps.\n",
    "        if city_user[i]==city_user[i+2]:\n",
    "            sum += 1\n",
    "    if transitions[i][0] == 'Aracaju (SE)':\n",
    "        sum1 += 1\n",
    "    \n",
    "print(sum, sum1)   \n",
    "return_probability_problem5 = float(sum / sum1)\n",
    "print(return_probability_problem5)"
   ]
  },
  {
   "cell_type": "markdown",
   "metadata": {
    "deletable": false,
    "lx_assignment_number": "vB",
    "lx_assignment_type": "EXAM",
    "lx_assignment_type2print": "Exam",
    "lx_problem_cell_type": "Test",
    "lx_problem_number": "5",
    "lx_problem_points": "8"
   },
   "source": [
    "---\n",
    "#### Local Test for Exam vB, PROBLEM 5\n",
    "Evaluate cell below to make sure your answer is valid.                             You **should not** modify anything in the cell below when evaluating it to do a local test of                             your solution.\n",
    "You may need to include and evaluate code snippets from lecture notebooks in cells above to make the local test work correctly sometimes (see error messages for clues). This is meant to help you become efficient at recalling materials covered in lectures that relate to this problem. Such local tests will generally not be available in the exam."
   ]
  },
  {
   "cell_type": "code",
   "execution_count": 119,
   "metadata": {
    "deletable": false,
    "lx_assignment_number": "vB",
    "lx_assignment_type": "EXAM",
    "lx_assignment_type2print": "Exam",
    "lx_problem_cell_type": "Test",
    "lx_problem_number": "5",
    "lx_problem_points": "8"
   },
   "outputs": [
    {
     "name": "stdout",
     "output_type": "stream",
     "text": [
      "1.0\n",
      "Aracaju (SE)->"
     ]
    },
    {
     "ename": "ValueError",
     "evalue": "probabilities do not sum to 1",
     "output_type": "error",
     "traceback": [
      "\u001b[0;31m---------------------------------------------------------------------------\u001b[0m",
      "\u001b[0;31mValueError\u001b[0m                                Traceback (most recent call last)",
      "\u001b[0;32m<ipython-input-119-00d83caa3b20>\u001b[0m in \u001b[0;36m<module>\u001b[0;34m\u001b[0m\n\u001b[1;32m      9\u001b[0m \u001b[0mprint\u001b[0m\u001b[0;34m(\u001b[0m\u001b[0mcurrent_pos\u001b[0m\u001b[0;34m.\u001b[0m\u001b[0mreshape\u001b[0m\u001b[0;34m(\u001b[0m\u001b[0;34m-\u001b[0m\u001b[0mInteger\u001b[0m\u001b[0;34m(\u001b[0m\u001b[0;36m1\u001b[0m\u001b[0;34m)\u001b[0m\u001b[0;34m)\u001b[0m\u001b[0;34m.\u001b[0m\u001b[0msum\u001b[0m\u001b[0;34m(\u001b[0m\u001b[0;34m)\u001b[0m\u001b[0;34m)\u001b[0m\u001b[0;34m\u001b[0m\u001b[0;34m\u001b[0m\u001b[0m\n\u001b[1;32m     10\u001b[0m \u001b[0;32mfor\u001b[0m \u001b[0mi\u001b[0m \u001b[0;32min\u001b[0m \u001b[0mrange\u001b[0m\u001b[0;34m(\u001b[0m\u001b[0mInteger\u001b[0m\u001b[0;34m(\u001b[0m\u001b[0;36m10\u001b[0m\u001b[0;34m)\u001b[0m\u001b[0;34m)\u001b[0m\u001b[0;34m:\u001b[0m\u001b[0;34m\u001b[0m\u001b[0;34m\u001b[0m\u001b[0m\n\u001b[0;32m---> 11\u001b[0;31m     \u001b[0mrandom_word_index\u001b[0m \u001b[0;34m=\u001b[0m \u001b[0mnp\u001b[0m\u001b[0;34m.\u001b[0m\u001b[0mrandom\u001b[0m\u001b[0;34m.\u001b[0m\u001b[0mchoice\u001b[0m\u001b[0;34m(\u001b[0m\u001b[0mrange\u001b[0m\u001b[0;34m(\u001b[0m\u001b[0mn_cities\u001b[0m\u001b[0;34m)\u001b[0m\u001b[0;34m,\u001b[0m\u001b[0mp\u001b[0m\u001b[0;34m=\u001b[0m\u001b[0mcurrent_pos\u001b[0m\u001b[0;34m.\u001b[0m\u001b[0mreshape\u001b[0m\u001b[0;34m(\u001b[0m\u001b[0;34m-\u001b[0m\u001b[0mInteger\u001b[0m\u001b[0;34m(\u001b[0m\u001b[0;36m1\u001b[0m\u001b[0;34m)\u001b[0m\u001b[0;34m)\u001b[0m\u001b[0;34m)\u001b[0m\u001b[0;34m\u001b[0m\u001b[0;34m\u001b[0m\u001b[0m\n\u001b[0m\u001b[1;32m     12\u001b[0m     \u001b[0mcurrent_pos\u001b[0m \u001b[0;34m=\u001b[0m \u001b[0mnp\u001b[0m\u001b[0;34m.\u001b[0m\u001b[0mzeros_like\u001b[0m\u001b[0;34m(\u001b[0m\u001b[0mstart\u001b[0m\u001b[0;34m)\u001b[0m\u001b[0;34m\u001b[0m\u001b[0;34m\u001b[0m\u001b[0m\n\u001b[1;32m     13\u001b[0m     \u001b[0mcurrent_pos\u001b[0m\u001b[0;34m[\u001b[0m\u001b[0mrandom_word_index\u001b[0m\u001b[0;34m]\u001b[0m \u001b[0;34m=\u001b[0m \u001b[0mInteger\u001b[0m\u001b[0;34m(\u001b[0m\u001b[0;36m1\u001b[0m\u001b[0;34m)\u001b[0m\u001b[0;34m\u001b[0m\u001b[0;34m\u001b[0m\u001b[0m\n",
      "\u001b[0;32mmtrand.pyx\u001b[0m in \u001b[0;36mnumpy.random.mtrand.RandomState.choice\u001b[0;34m()\u001b[0m\n",
      "\u001b[0;31mValueError\u001b[0m: probabilities do not sum to 1"
     ]
    }
   ],
   "source": [
    "# Once you have created all your functions, you can make a small test here to see\n",
    "# what would be generated from your model.\n",
    "import numpy as np\n",
    "\n",
    "start = np.zeros(shape=(n_cities,1))\n",
    "start[cityToIndex['Aracaju (SE)'],0] = 1\n",
    "\n",
    "current_pos = start\n",
    "for i in range(10):\n",
    "    random_word_index = np.random.choice(range(n_cities),p=current_pos.reshape(-1))\n",
    "    current_pos = np.zeros_like(start)\n",
    "    current_pos[random_word_index] = 1\n",
    "    print(indexToCity[random_word_index],end='->')\n",
    "    current_pos = (current_pos.T@transition_matrix).T"
   ]
  },
  {
   "cell_type": "code",
   "execution_count": 27,
   "metadata": {
    "deletable": false,
    "lx_assignment_number": "vB",
    "lx_assignment_type": "EXAM",
    "lx_assignment_type2print": "Exam",
    "lx_problem_cell_type": "TEST",
    "lx_problem_number": "5",
    "lx_problem_points": "8",
    "lx_test_only": "True"
   },
   "outputs": [
    {
     "name": "stdout",
     "output_type": "stream",
     "text": [
      "Beginning tests for problem 5\n",
      "You did to some degree know that the stationary distribution is given by an eigenvector\n",
      "Correct number of cities\n",
      "Correct number of userCodes\n",
      "Correct number of observations\n",
      "Transition matrix has correct shape\n",
      "Your transition matrix does have column sum 1\n",
      "name 'cityToIndex' is not defined\n",
      "name 'stationary_distribution_problem5' is not defined\n",
      "name 'stationary_distribution_problem5' is not defined\n",
      "name 'stationary_distribution_problem5' is not defined\n",
      "name 'return_probability_problem5' is not defined\n",
      "\n",
      "The number of points you have scored for this problem is 4 out of 8\n",
      "The number of points you have accumulated thus far is   22 out of 40\n"
     ]
    }
   ],
   "source": []
  },
  {
   "cell_type": "markdown",
   "metadata": {
    "deletable": false,
    "lx_assignment_number": "vB",
    "lx_assignment_type": "EXAM",
    "lx_assignment_type2print": "Exam",
    "lx_problem_cell_type": "PROBLEM",
    "lx_problem_number": "6",
    "lx_problem_points": "8"
   },
   "source": [
    "---\n",
    "## Exam vB, PROBLEM 6\n",
    "Maximum Points = 8"
   ]
  },
  {
   "cell_type": "markdown",
   "metadata": {
    "deletable": false,
    "lx_assignment_number": "vB",
    "lx_assignment_type": "EXAM",
    "lx_assignment_type2print": "Exam",
    "lx_problem_cell_type": "PROBLEM",
    "lx_problem_number": "6",
    "lx_problem_points": "8"
   },
   "source": [
    "\n",
    "## Black box testing\n",
    "\n",
    "In the following problem we will continue with our SMS spam / nospam data. This time we will try to approach the problem as a pattern recognition problem. For this particular problem I have provided you with everything -- data is prepared, split into train-test sets and a black-box model has been fitted on the training data and predicted on the test data. Your goal is to calculate test metrics and provide guarantees for each metric.\n",
    "\n",
    "1. [2p] Compute precision for class 1 (see notes 8.3.2 for definition), then provide an interval using Hoeffding's inequality for a 95\\% confidence.\n",
    "2. [2p] Compute recall for class 1(see notes 8.3.2 for definition), then provide an interval using Hoeffding's inequality for a 95\\% interval.\n",
    "3. [2p] Compute accuracy (0-1 loss), then provide an interval using Hoeffding's inequality for a 95\\% interval.\n",
    "4. [2p] If we would have used a classifier with VC-dimension 3, would we have obtained a smaller interval for accuracy by using all data?"
   ]
  },
  {
   "cell_type": "code",
   "execution_count": 28,
   "metadata": {
    "deletable": false,
    "jupyter": {
     "source_hidden": false
    },
    "lx_assignment_number": "vB",
    "lx_assignment_type": "EXAM",
    "lx_assignment_type2print": "Exam",
    "lx_problem_cell_type": "PROBLEM",
    "lx_problem_number": "6",
    "lx_problem_points": "8"
   },
   "outputs": [],
   "source": [
    "\n",
    "# The code below will load data, split the data into train and test and run a \"black box\" algorithm on it\n",
    "# the result of the \"black box\" is stored in predictions_problem6, the true values will be stored in\n",
    "# Y_test_problem6\n",
    "import exam_extras\n",
    "from exam_extras import load_sms_problem6\n",
    "X_problem6, Y_problem6 = load_sms_problem6()\n",
    "\n",
    "X_train_problem6,X_test_problem6,Y_train_problem6,Y_test_problem6 = exam_extras.train_test_split(X_problem6,Y_problem6)\n",
    "predictions_problem6 = exam_extras.knn_predictions(X_train_problem6,Y_train_problem6,X_test_problem6,k=4)"
   ]
  },
  {
   "cell_type": "code",
   "execution_count": 29,
   "metadata": {
    "deletable": false,
    "lx_assignment_number": "vB",
    "lx_assignment_type": "EXAM",
    "lx_assignment_type2print": "Exam",
    "lx_problem_cell_type": "PROBLEM",
    "lx_problem_number": "6",
    "lx_problem_points": "8"
   },
   "outputs": [],
   "source": [
    "TP, FP, FN = 0,0,0\n",
    "for elt in range(len(predictions_problem6)):\n",
    "    if predictions_problem6[elt]==1 and Y_test_problem6[elt]==1:\n",
    "        TP += 1\n",
    "    elif predictions_problem6[elt]==1 and Y_test_problem6[elt]==0:\n",
    "        FP += 1\n",
    "    elif predictions_problem6[elt]==0 and Y_test_problem6[elt]==1:\n",
    "        FN += 1\n",
    "#print(TP)\n",
    "#print(FP)\n",
    "#print(FN)\n",
    "# Compute the precision of predictions_problem6 with respect to Y_test_problem6\n",
    "problem6_precision = float(TP/(TP+FP))\n",
    "#print(problem6_precision)"
   ]
  },
  {
   "cell_type": "code",
   "execution_count": 30,
   "metadata": {
    "deletable": false,
    "lx_assignment_number": "vB",
    "lx_assignment_type": "EXAM",
    "lx_assignment_type2print": "Exam",
    "lx_problem_cell_type": "PROBLEM",
    "lx_problem_number": "6",
    "lx_problem_points": "8"
   },
   "outputs": [],
   "source": [
    "#since this is binary, we can eventually reduce that l will be sqrt((-1/2n)ln(.025)). Plugging in n=118 gives \n",
    "# Compute the interval length l of precision of predictions_problem6 with respect to Y_test_problem6, with the same definition of l as in problem 4\n",
    "problem6_precision_l = .125"
   ]
  },
  {
   "cell_type": "code",
   "execution_count": 31,
   "metadata": {
    "deletable": false,
    "lx_assignment_number": "vB",
    "lx_assignment_type": "EXAM",
    "lx_assignment_type2print": "Exam",
    "lx_problem_cell_type": "PROBLEM",
    "lx_problem_number": "6",
    "lx_problem_points": "8"
   },
   "outputs": [],
   "source": [
    "\n",
    "# Repeat the same procedure but for recall\n",
    "problem6_recall = float(TP/(TP+FN))\n",
    "#print(problem6_recall)"
   ]
  },
  {
   "cell_type": "code",
   "execution_count": 32,
   "metadata": {
    "deletable": false,
    "lx_assignment_number": "vB",
    "lx_assignment_type": "EXAM",
    "lx_assignment_type2print": "Exam",
    "lx_problem_cell_type": "PROBLEM",
    "lx_problem_number": "6",
    "lx_problem_points": "8"
   },
   "outputs": [],
   "source": [
    "#since this is binary, we can eventually reduce that l will be sqrt((-1/2n)ln(.025)). Plugging in n=215 gives \n",
    "# should be 0.09\n",
    "problem6_recall_l = .093"
   ]
  },
  {
   "cell_type": "code",
   "execution_count": 33,
   "metadata": {
    "deletable": false,
    "lx_assignment_number": "vB",
    "lx_assignment_type": "EXAM",
    "lx_assignment_type2print": "Exam",
    "lx_problem_cell_type": "PROBLEM",
    "lx_problem_number": "6",
    "lx_problem_points": "8"
   },
   "outputs": [
    {
     "name": "stdout",
     "output_type": "stream",
     "text": [
      "1539\n",
      "133\n"
     ]
    }
   ],
   "source": [
    "corre, wron = 0,0\n",
    "for elt in range(len(predictions_problem6)):\n",
    "    if predictions_problem6[elt]==Y_test_problem6[elt]:\n",
    "        corre += 1\n",
    "    else:\n",
    "        wron+=1\n",
    "print(corre)\n",
    "print(wron)\n",
    "# Repeat the same procedure but for accuracy or 0-1 loss\n",
    "problem6_accuracy = float(corre/(corre+wron))\n",
    "#print(problem6_accuracy)"
   ]
  },
  {
   "cell_type": "code",
   "execution_count": 156,
   "metadata": {
    "deletable": false,
    "lx_assignment_number": "vB",
    "lx_assignment_type": "EXAM",
    "lx_assignment_type2print": "Exam",
    "lx_problem_cell_type": "PROBLEM",
    "lx_problem_number": "6",
    "lx_problem_points": "8"
   },
   "outputs": [
    {
     "name": "stdout",
     "output_type": "stream",
     "text": [
      "0.0332134582368116\n"
     ]
    }
   ],
   "source": [
    "#since this is binary, we can eventually reduce that l will be sqrt((-1/2n)ln(.025)). Plugging in n=1672 gives \n",
    "# should be 0.03\n",
    "problem6_accuracy_l = .033\n",
    "print(sqrt((-1/(2*1672))*ln(.025)))"
   ]
  },
  {
   "cell_type": "code",
   "execution_count": 35,
   "metadata": {
    "deletable": false,
    "lx_assignment_number": "vB",
    "lx_assignment_type": "EXAM",
    "lx_assignment_type2print": "Exam",
    "lx_problem_cell_type": "PROBLEM",
    "lx_problem_number": "6",
    "lx_problem_points": "8"
   },
   "outputs": [
    {
     "ename": "NameError",
     "evalue": "name 'XXX' is not defined",
     "output_type": "error",
     "traceback": [
      "\u001b[0;31m---------------------------------------------------------------------------\u001b[0m",
      "\u001b[0;31mNameError\u001b[0m                                 Traceback (most recent call last)",
      "\u001b[0;32m<ipython-input-35-e4ce85c8f9d1>\u001b[0m in \u001b[0;36m<module>\u001b[0;34m()\u001b[0m\n\u001b[1;32m      3\u001b[0m \u001b[0;31m# put the value in problem6_VC_l and answer problem_VC_smaller as True if the interval is smaller than the test-accuracy above\u001b[0m\u001b[0;34m\u001b[0m\u001b[0;34m\u001b[0m\u001b[0;34m\u001b[0m\u001b[0m\n\u001b[1;32m      4\u001b[0m \u001b[0;31m# if not answer False. Make sure you replace XXX with something even if you only answer one of them.\u001b[0m\u001b[0;34m\u001b[0m\u001b[0;34m\u001b[0m\u001b[0;34m\u001b[0m\u001b[0m\n\u001b[0;32m----> 5\u001b[0;31m \u001b[0mproblem6_VC_l\u001b[0m \u001b[0;34m=\u001b[0m \u001b[0mXXX\u001b[0m \u001b[0;31m# number\u001b[0m\u001b[0;34m\u001b[0m\u001b[0;34m\u001b[0m\u001b[0m\n\u001b[0m\u001b[1;32m      6\u001b[0m \u001b[0mproblem6_VC_smaller\u001b[0m \u001b[0;34m=\u001b[0m \u001b[0;32mFalse\u001b[0m\u001b[0;34m\u001b[0m\u001b[0;34m\u001b[0m\u001b[0m\n",
      "\u001b[0;31mNameError\u001b[0m: name 'XXX' is not defined"
     ]
    }
   ],
   "source": [
    "\n",
    "# Below you will calculate the interval parameter l for a classifier running on all data with a VC dimension of 3\n",
    "# put the value in problem6_VC_l and answer problem_VC_smaller as True if the interval is smaller than the test-accuracy above\n",
    "# if not answer False. Make sure you replace XXX with something even if you only answer one of them.\n",
    "problem6_VC_l = XXX # number\n",
    "problem6_VC_smaller = False"
   ]
  },
  {
   "cell_type": "code",
   "execution_count": 36,
   "metadata": {
    "deletable": false,
    "lx_assignment_number": "vB",
    "lx_assignment_type": "EXAM",
    "lx_assignment_type2print": "Exam",
    "lx_problem_cell_type": "TEST",
    "lx_problem_number": "6",
    "lx_problem_points": "8",
    "lx_test_only": "True"
   },
   "outputs": [
    {
     "name": "stdout",
     "output_type": "stream",
     "text": [
      "Beginning tests for problem 6\n",
      "\n",
      "Your problem6_precision is correct\n",
      "Your problem6_precision_l is correct\n",
      "Your problem6_recall is correct\n",
      "Your recall_l should be 0.09\n",
      "Your problem6_accuracy is correct\n",
      "Your accuracy_l should be 0.03\n",
      "name 'problem6_VC_l' is not defined\n",
      "name 'problem6_VC_smaller' is not defined\n",
      "\n",
      "The number of points you have scored for this problem is 4 out of 8\n",
      " \n",
      " \n",
      " \n",
      "The number of points you have scored in total for this entire set of Problems is 26 out of 48\n"
     ]
    }
   ],
   "source": []
  }
 ],
 "metadata": {
  "kernelspec": {
   "display_name": "SageMath 9.4",
   "language": "sage",
   "name": "SageMath-9.4"
  },
  "language_info": {
   "codemirror_mode": {
    "name": "ipython",
    "version": 3
   },
   "file_extension": ".py",
   "mimetype": "text/x-python",
   "name": "python",
   "nbconvert_exporter": "python",
   "pygments_lexer": "ipython3",
   "version": "3.9.5"
  },
  "lx_assignment_number": "vB",
  "lx_course_instance": "2021",
  "lx_course_name": "Introduction to Data Science: A Comp-Math-Stat Approach",
  "lx_course_number": "1MS041"
 },
 "nbformat": 4,
 "nbformat_minor": 4
}
